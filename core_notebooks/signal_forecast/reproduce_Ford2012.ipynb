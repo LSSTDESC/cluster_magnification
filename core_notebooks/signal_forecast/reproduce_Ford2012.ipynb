{
 "cells": [
  {
   "cell_type": "markdown",
   "metadata": {},
   "source": [
    "# Goal : \n",
    "## reproduce magnification bias signal as a function of radius from cluster center, for different source samples, defined by their luminosity function and magnitude cut as measured by https://arxiv.org/pdf/1111.3698.pdf"
   ]
  },
  {
   "cell_type": "code",
   "execution_count": null,
   "metadata": {},
   "outputs": [],
   "source": [
    "#import os\n",
    "#os.environ['CLMM_MODELING_BACKEND'] = 'ct' # here you may choose ccl, nc (NumCosmo) or ct (cluster_toolkit)\n",
    "from astropy.cosmology import FlatLambdaCDM\n",
    "from scipy.optimize import curve_fit\n",
    "import numpy as np\n",
    "import matplotlib.pyplot as plt\n",
    "%matplotlib inline\n",
    "import clmm\n",
    "import matplotlib\n",
    "matplotlib.rcParams.update({'font.size': 16})\n",
    "from astropy.cosmology import FlatLambdaCDM\n",
    "import pyccl \n",
    "\n",
    "import sys\n",
    "sys.path.append('../')\n",
    "from magnification_library import *"
   ]
  },
  {
   "cell_type": "code",
   "execution_count": null,
   "metadata": {},
   "outputs": [],
   "source": [
    "clmm.__version__"
   ]
  },
  {
   "cell_type": "code",
   "execution_count": null,
   "metadata": {},
   "outputs": [],
   "source": [
    "#define cosmology\n",
    "\n",
    "#astropy object\n",
    "cosmo = FlatLambdaCDM(H0=71, Om0=0.265, Tcmb0=0 , Neff=3.04, m_nu=None, Ob0=0.0448)\n",
    "\n",
    "#ccl object\n",
    "cosmo_ccl = pyccl.Cosmology(Omega_c=cosmo.Om0-cosmo.Ob0, Omega_b=cosmo.Ob0,\n",
    "                      h=cosmo.h, sigma8= 0.80, n_s=0.963)\n",
    "#clmm object\n",
    "cosmo_clmm = clmm.Cosmology(be_cosmo=cosmo_ccl)"
   ]
  },
  {
   "cell_type": "code",
   "execution_count": null,
   "metadata": {},
   "outputs": [],
   "source": [
    "#define cluster parameters\n",
    "density_profile_parametrization = 'nfw'\n",
    "mass_Delta = 200\n",
    "cluster_concentration = np.array((3., 3.5, 4))\n",
    "cluster_mass = np.array((0.36, 1.7)) *1e14 \n",
    "cluster_redshift = np.array((0.3, 1.0))"
   ]
  },
  {
   "cell_type": "code",
   "execution_count": null,
   "metadata": {},
   "outputs": [],
   "source": [
    "#define source parameters\n",
    "source_redshift = np.array((3.1, 3.8, 4., 4.8))\n",
    "mstar = np.array((-20.84, -20.84, -21.00, -20.94))\n",
    "alpha = np.array((-1.6, -1.56, -1.26, -1.65))\n",
    "fct = \"schechter\""
   ]
  },
  {
   "cell_type": "code",
   "execution_count": null,
   "metadata": {},
   "outputs": [],
   "source": [
    "r3d = np.logspace(-2, 2, 1000)"
   ]
  },
  {
   "cell_type": "code",
   "execution_count": null,
   "metadata": {},
   "outputs": [],
   "source": [
    "#computation of the magnification per radius and redshift\n",
    "\n",
    "conc_cl = cluster_concentration[1]\n",
    "mass_cl = cluster_mass[1]\n",
    "z_cl = cluster_redshift[1]\n",
    "z_s = source_redshift[:]\n",
    "\n",
    "print (\"Compute magnification for cluster of mass\", mass_cl/1e14, \"x 1e14 Msun at redshift z =\", z_cl, \"with concentration\", conc_cl)\n",
    "\n",
    "mu_2d = np.zeros((r3d.size, z_s.size))\n",
    "\n",
    "for i in range(z_s.size):\n",
    "    mu_2d[:,i] = clmm.theory.compute_magnification(r3d, mdelta=mass_cl, cdelta=conc_cl, \n",
    "                                        z_cluster=z_cl, z_source=z_s[i], cosmo=cosmo_clmm, \n",
    "                                        delta_mdef=mass_Delta, \n",
    "                                        halo_profile_model=density_profile_parametrization, \n",
    "                                        z_src_model='single_plane')"
   ]
  },
  {
   "cell_type": "code",
   "execution_count": null,
   "metadata": {},
   "outputs": [],
   "source": [
    "plot_profile(r3d, mu_2d[:,:], '$\\\\mu$')\n",
    "\n",
    "plt.yscale('linear')\n",
    "plt.xlim(0.08, 5)\n",
    "plt.ylim(0.9, 2)"
   ]
  },
  {
   "cell_type": "code",
   "execution_count": null,
   "metadata": {},
   "outputs": [],
   "source": [
    "#define beta slope for each source population\n",
    "\n",
    "mlim = np.linspace(20, 30, 100)\n",
    "\n",
    "Mlim1 = mlim_to_Mlim(mlim, z_s[0], cosmo)\n",
    "Mlim2 = mlim_to_Mlim(mlim, z_s[1], cosmo)\n",
    "Mlim3 = mlim_to_Mlim(mlim, z_s[2], cosmo)\n",
    "Mlim4 = mlim_to_Mlim(mlim, z_s[3], cosmo)\n",
    "\n",
    "Mlim = np.linspace(-23, -18, 100)\n",
    "mslope_z1 = slope(Mlim, alpha[0], mstar[0], fct=fct)\n",
    "mslope_z2 = slope(Mlim, alpha[1], mstar[1], fct=fct)\n",
    "mslope_z3 = slope(Mlim, alpha[2], mstar[2], fct=fct)\n",
    "mslope_z4 = slope(Mlim, alpha[3], mstar[3], fct=fct)\n"
   ]
  },
  {
   "cell_type": "code",
   "execution_count": null,
   "metadata": {},
   "outputs": [],
   "source": [
    "#check what the luminosity function look like\n",
    "plt.semilogy(Mlim, schechterM(Mlim, 100, alpha[0], mstar[0]), 'b')\n",
    "plt.semilogy(Mlim, schechterM(Mlim, 100, alpha[1], mstar[1]), 'g')\n",
    "plt.semilogy(Mlim, schechterM(Mlim, 100, alpha[2], mstar[2]), 'r')\n",
    "plt.semilogy(Mlim, schechterM(Mlim, 100, alpha[3], mstar[3]), 'm')\n",
    "\n",
    "plt.axvline(mstar[0], linestyle='dotted')\n",
    "\n",
    "plt.ylim(1e-1, 1e3)\n",
    "plt.xlim(mstar[0] - 3, mstar[0] + 3)\n",
    "\n",
    "plt.xlabel('Mag')\n",
    "plt.ylabel('$\\phi$')"
   ]
  },
  {
   "cell_type": "code",
   "execution_count": null,
   "metadata": {},
   "outputs": [],
   "source": [
    "#check what the beta slope look like as a function of magnitude cut\n",
    "\n",
    "mlim = [24., 25.25, 26.]\n",
    "\n",
    "Mlim1 = mlim_to_Mlim(mlim, z_s[0], cosmo)\n",
    "Mlim2 = mlim_to_Mlim(mlim, z_s[1], cosmo)\n",
    "Mlim3 = mlim_to_Mlim(mlim, z_s[2], cosmo)\n",
    "Mlim4 = mlim_to_Mlim(mlim, z_s[3], cosmo)\n",
    "\n",
    "\n",
    "plt.plot(Mlim, 2.5 * mslope_z1 - 1, label = 'z_s ='  + str(z_s[0]))\n",
    "plt.plot(Mlim, 2.5 * mslope_z2 - 1, label = 'z_s ='  + str(z_s[1]))\n",
    "plt.plot(Mlim, 2.5 * mslope_z3 - 1, label = 'z_s ='  + str(z_s[2]))\n",
    "plt.plot(Mlim, 2.5 * mslope_z4 - 1, label = 'z_s ='  + str(z_s[3]))\n",
    "\n",
    "for i in range(3):\n",
    "    plt.axvline(Mlim1[i])\n",
    "\n",
    "plt.xlabel('Mag')\n",
    "plt.ylabel('$\\\\beta - 1$');\n",
    "plt.legend()\n",
    "\n",
    "plt.grid()\n",
    "plt.ylim(-1,2)"
   ]
  },
  {
   "cell_type": "code",
   "execution_count": null,
   "metadata": {},
   "outputs": [],
   "source": [
    "Mlim[Mlim>Mlim1[0]][0]"
   ]
  },
  {
   "cell_type": "code",
   "execution_count": null,
   "metadata": {},
   "outputs": [],
   "source": [
    "LF_sample = 0\n",
    "\n",
    "plt.title('source redshitf=' + str(source_redshift[LF_sample]))\n",
    "\n",
    "plot_profile(r3d, mu_bias(mu_2d[:,LF_sample], 2.5 * mslope_z1[Mlim>Mlim1[0]][0]), '$\\\\mu^{\\\\beta - 1}$', label ='M_cut=' + str(round(Mlim1[0],2)))\n",
    "\n",
    "plot_profile(r3d, mu_bias(mu_2d[:,LF_sample], 2.5 * mslope_z1[Mlim>Mlim1[1]][0]), '$\\\\mu^{\\\\beta - 1}$', label ='M_cut=' + str(round(Mlim1[1],2)))\n",
    "\n",
    "plot_profile(r3d, mu_bias(mu_2d[:,LF_sample], 2.5 * mslope_z1[Mlim>Mlim1[2]][0]), '$\\\\mu^{\\\\beta - 1}$', label ='M_cut=' + str(round(Mlim1[2],2)))\n",
    "\n",
    "\n",
    "\n",
    "plt.axhline(1,linestyle='dashed', color='grey')\n",
    "plt.yscale('linear')\n",
    "plt.xlim(0.08, 5)\n",
    "plt.ylim(0.9, 2)\n",
    "\n",
    "plt.legend()"
   ]
  },
  {
   "cell_type": "code",
   "execution_count": null,
   "metadata": {},
   "outputs": [],
   "source": [
    "#define estimator for the density contrast due to magnification bias\n",
    "def estimator(mu, beta):\n",
    "    w =  mu**(beta - 1) - 1\n",
    "    return w"
   ]
  },
  {
   "cell_type": "code",
   "execution_count": null,
   "metadata": {},
   "outputs": [],
   "source": [
    "LF_sample = 0\n",
    "\n",
    "plot_profile(r3d, estimator(mu_2d[:,LF_sample], 2.5 * mslope_z1[Mlim>Mlim1[0]][0]), 'w(R)', label ='bright')\n",
    "\n",
    "plot_profile(r3d, estimator(mu_2d[:,LF_sample], 2.5 * mslope_z1[Mlim>Mlim1[1]][0]), 'w(R)', label ='medium')\n",
    "\n",
    "plot_profile(r3d, estimator(mu_2d[:,LF_sample], 2.5 * mslope_z1[Mlim>Mlim1[2]][0]), 'w(R)', label ='faint')\n",
    "\n",
    "\n",
    "plt.axhline(0,linestyle='dashed', color='grey')\n",
    "plt.yscale('linear')\n",
    "plt.xlim(0.08, 5)\n",
    "plt.ylim(-0.4 ,0.8)\n",
    "\n",
    "plt.legend()\n",
    "plt.grid()"
   ]
  },
  {
   "cell_type": "code",
   "execution_count": null,
   "metadata": {},
   "outputs": [],
   "source": []
  },
  {
   "cell_type": "code",
   "execution_count": null,
   "metadata": {},
   "outputs": [],
   "source": []
  }
 ],
 "metadata": {
  "kernelspec": {
   "display_name": "desc",
   "language": "python",
   "name": "desc"
  },
  "language_info": {
   "codemirror_mode": {
    "name": "ipython",
    "version": 3
   },
   "file_extension": ".py",
   "mimetype": "text/x-python",
   "name": "python",
   "nbconvert_exporter": "python",
   "pygments_lexer": "ipython3",
   "version": "3.8.8"
  }
 },
 "nbformat": 4,
 "nbformat_minor": 4
}
