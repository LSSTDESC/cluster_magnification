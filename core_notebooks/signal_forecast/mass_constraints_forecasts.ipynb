{
 "cells": [
  {
   "cell_type": "code",
   "execution_count": null,
   "metadata": {},
   "outputs": [],
   "source": [
    "import numpy as np\n",
    "\n",
    "import matplotlib.pyplot as plt\n",
    "%matplotlib inline\n",
    "import matplotlib\n",
    "matplotlib.rcParams.update({'font.size': 16})\n",
    "\n",
    "from astropy.cosmology import FlatLambdaCDM\n",
    "from astropy import units as u\n",
    "from astropy.io import ascii\n",
    "\n",
    "from scipy import stats, interpolate\n",
    "from scipy.integrate import quad, cumtrapz\n",
    "from scipy.optimize import curve_fit\n",
    "\n",
    "import sys\n",
    "sys.path.append('../../')\n",
    "import magnification_library as magnification_library\n",
    "from magnification_library import *\n",
    "\n",
    "\n",
    "import clmm\n",
    "from clmm import utils \n",
    "import pyccl\n",
    "\n",
    "from importlib import reload  \n",
    "\n",
    "\n",
    "import clmm\n",
    "from clmm.support.sampler import fitters"
   ]
  },
  {
   "cell_type": "code",
   "execution_count": null,
   "metadata": {},
   "outputs": [],
   "source": [
    "reload(magnification_library)"
   ]
  },
  {
   "cell_type": "code",
   "execution_count": null,
   "metadata": {},
   "outputs": [],
   "source": [
    "clmm.__version__"
   ]
  },
  {
   "cell_type": "code",
   "execution_count": null,
   "metadata": {},
   "outputs": [],
   "source": [
    "#define cosmology\n",
    "\n",
    "#from https://arxiv.org/pdf/1904.13378.pdf%20for%20u-dropout BEWARE that CT backend can not handle sigma8\n",
    "\n",
    "#astropy object\n",
    "cosmo = FlatLambdaCDM(H0=67.7, Om0=0.265, Tcmb0=0 , Neff=3.04, m_nu=None, Ob0=0.0448)\n",
    "\n",
    "#ccl object\n",
    "cosmo_ccl = pyccl.Cosmology(Omega_c=cosmo.Om0-cosmo.Ob0, Omega_b=cosmo.Ob0,\n",
    "                      h=cosmo.h, sigma8= 0.80, n_s=0.963)\n",
    "#clmm object\n",
    "cosmo_clmm = clmm.Cosmology(be_cosmo=cosmo_ccl)"
   ]
  },
  {
   "cell_type": "code",
   "execution_count": null,
   "metadata": {},
   "outputs": [],
   "source": [
    "def get_halo_concentration(mass_lens, z_lens, cosmo_ccl, relation=\"Diemer15\", mdef=\"matter\", delta_so=200):\n",
    "    mdef = pyccl.halos.massdef.MassDef(delta_so, mdef, c_m_relation=relation)\n",
    "    concdef = pyccl.halos.concentration.concentration_from_name(relation)()\n",
    "    conc = concdef.get_concentration(cosmo=cosmo_clmm.be_cosmo, M=mass_lens, a=cosmo_clmm.get_a_from_z(z=z_lens), mdef_other=mdef)\n",
    "    return conc "
   ]
  },
  {
   "cell_type": "markdown",
   "metadata": {},
   "source": [
    "# **1) Lens and sources properties**"
   ]
  },
  {
   "cell_type": "markdown",
   "metadata": {},
   "source": [
    "## **Lens**"
   ]
  },
  {
   "cell_type": "code",
   "execution_count": null,
   "metadata": {},
   "outputs": [],
   "source": [
    "#lens properties \n",
    "z_cl = [0.1, 0.3, 0.5, 0.7, 1.0, 1.2, 1.5]\n",
    "M200_cl = np.array([5e13, 1e14, 2.5e14, 5e14,1e15])\n",
    "\n",
    "r200, c200 = np.zeros((2, len(M200_cl), len(z_cl)))\n",
    "for i in range(len(z_cl)):\n",
    "    r200[:, i] = scaled_radius(200, M200_cl, z_cl[i], cosmo)\n",
    "    \n",
    "c200 = np.zeros((len(M200_cl),len(z_cl)))\n",
    "for i in np.arange(len(z_cl)):\n",
    "    for j in np.arange(len(M200_cl)):\n",
    "        c200[j,i] = get_halo_concentration(M200_cl[j], z_cl[i], cosmo_clmm, \"Diemer15\")\n",
    "    "
   ]
  },
  {
   "cell_type": "code",
   "execution_count": null,
   "metadata": {},
   "outputs": [],
   "source": [
    "for i in range(len(z_cl)):\n",
    "    plt.semilogx(M200_cl, c200[:,i], 'o-',  label = 'z_cl = '+str(z_cl[i]));\n",
    "\n",
    "plt.legend(ncol=2, fontsize='small')\n",
    "\n",
    "plt.xlabel('M200 [M$_\\odot$]')\n",
    "plt.ylabel('c200')"
   ]
  },
  {
   "cell_type": "markdown",
   "metadata": {},
   "source": [
    "## lens expected number counts "
   ]
  },
  {
   "cell_type": "code",
   "execution_count": null,
   "metadata": {},
   "outputs": [],
   "source": [
    "mass_def = pyccl.halos.MassDef200m()\n",
    "hmf = pyccl.halos.MassFuncTinker10(cosmo_ccl, mass_def = mass_def) #dn/dlog10M\n",
    "#corr = 1./(M200_cl*np.log(10)) #pour passer en dn/dM\n",
    "corr = 1"
   ]
  },
  {
   "cell_type": "code",
   "execution_count": null,
   "metadata": {},
   "outputs": [],
   "source": [
    "Area = 18000 * u.deg**2\n",
    "Omega = Area.to(u.sr)\n",
    "\n",
    "X = pyccl.comoving_radial_distance(cosmo_ccl, a = 1./(1+np.array(z_cl))) * u.Mpc\n",
    "Hz = pyccl.background.h_over_h0(cosmo_ccl, 1/(1+np.array(z_cl) )) * cosmo_ccl.cosmo.params.H0\n",
    "\n",
    "dVdz = 1/u.sr *  (pyccl.physical_constants.CLIGHT * u.m/u.s ).to(u.km/u.s)  / (Hz * u.km/(u.Mpc*u.s)) *  X**2 \n",
    "# similar to  cosmo.be_cosmo.differential_comoving_volume(np.array(z_cl))\n",
    "\n",
    "Volume = dVdz * Omega"
   ]
  },
  {
   "cell_type": "code",
   "execution_count": null,
   "metadata": {},
   "outputs": [],
   "source": [
    "N_hmf = np.array([corr * hmf.get_mass_function(cosmo_ccl, M200_cl, 1./(1+np.array(z_cl[i])) ) for i in range(len(z_cl))])\n",
    "N_halo = np.array([N_hmf[i,:] * Volume[i].value for i in range(len(z_cl))])"
   ]
  },
  {
   "cell_type": "code",
   "execution_count": null,
   "metadata": {},
   "outputs": [],
   "source": [
    "dz = 0.05*2\n",
    "dlog10m = 0.1\n",
    "#dm = 0.5*1e13\n",
    "\n",
    "\n",
    "plt.imshow(N_halo.T*dz*dlog10m,origin='lower')#,extent = [np.array(z_cl).min(), np.array(z_cl).max(), np.array(M200_cl).min(), np.array(M200_cl).max()], aspect='auto')\n",
    "plt.xticks(np.arange(0,len(z_cl)), [0.1, 0.3, 0.5, 0.7, 1.0, 1.2, 1.5])\n",
    "plt.yticks(np.arange(0,len(M200_cl)), ['5.0e+13', '1.0e+14', '2.5e+14', '5.0e+14', '1.0e+15'])\n",
    "plt.colorbar()\n",
    "plt.xlabel('z')\n",
    "plt.ylabel('M200 [$M_{\\odot}$]')"
   ]
  },
  {
   "cell_type": "markdown",
   "metadata": {},
   "source": [
    "## **Sources**"
   ]
  },
  {
   "cell_type": "code",
   "execution_count": null,
   "metadata": {},
   "outputs": [],
   "source": [
    "#Source galaxies properties \n",
    "#(source shear shot noise or LF slope, source density, redshift distribution parametrization)\n",
    "\n",
    "#SHEAR LSST__________________________________________________________________\n",
    "# fiducial number for Y10 (Y1) after blending + masking https://arxiv.org/pdf/1305.0793.pdf\n",
    "s_e = 0.26\n",
    "n_e_Y10 = 26 /u.arcmin**2\n",
    "n_e_Y1 = 9 /u.arcmin**2\n",
    "\n",
    "def shear_pdz(z):\n",
    "    norm =quad(lambda z: trunc_pdf(z, 1.24, 1.01, 0.51, 0, 3), 0, np.inf)[0]\n",
    "    return pdf_z(z, 1.24, 1.01, 0.51)*np.heaviside(z>0,0)*np.heaviside(z<3.,0)/norm\n",
    "\n",
    "#MAGNIFICATION LSST u-dropout_________________________________________________________\n",
    "#see Fig 6 in https://arxiv.org/pdf/1904.13378.pdf for u-dropout\n",
    "\n",
    "LF_param = {'z_eff':[2.,3.,3.8,4.9,5.9], 'phi_star':[97.0,50.4,92.5,32.2,16.4]*1/(cosmo.h*u.Mpc**3), 'alpha':[-1.60,-1.78,-1.57,-1.60,-1.87], 'm_star_UV':[24.2,24.7,25.4,25.5,25.8]}\n",
    "\n",
    "#At z~3 the LSST band corresponding to UV ~ 1500 Angstrom is the r band.\n",
    "#limiting mag from C1 in https://arxiv.org/pdf/1809.01669.pdf\n",
    "mlimY1 = 25.81 #r band\n",
    "mlimY10 = 27.04 #r band\n",
    "\n",
    "alpha_lbg_Y1 = 2.5 * slope(mlimY1, LF_param['alpha'][1], LF_param['m_star_UV'][1], beta=None,fct=\"schechter\")\n",
    "alpha_lbg_Y10 = 2.5 * slope(mlimY10, LF_param['alpha'][1], LF_param['m_star_UV'][1], beta=None,fct=\"schechter\")\n",
    "n_eff_lbg_Y1 = (1.8e4/(u.deg*u.deg)).to(1/(u.arcmin*u.arcmin)) \n",
    "n_eff_lbg_Y10 = (7.5*1e4/(u.deg*u.deg)).to(1/(u.arcmin*u.arcmin)) \n",
    "\n",
    "def mu_lbg_pdz(z):\n",
    "    func = gaussian(z, 1, 2.96,0.61/(2*np.sqrt(2*np.log(2))))\n",
    "    return func/quad(lambda z: gaussian(z, 1, 2.96,0.61/(2*np.sqrt(2*np.log(2)))), 0, np.inf)[0]\n",
    "\n",
    "\n",
    "#MAGNIFICATION LSST BX-dropout_________________________________________________________\n",
    "#see Fig 6 in https://arxiv.org/pdf/1904.13378.pdf for BX-dropouts\n",
    "\n",
    "#At z~2 the LSST band corresponding to UV ~ 1500 Angstrom is the g band.\n",
    "#limiting mag from C1 in https://arxiv.org/pdf/1809.01669.pdf\n",
    "mlimY1g =  25.60 #g band\n",
    "mlimY10g = 26.84 #g band\n",
    "\n",
    "alpha_bx_Y1 = 2.5 * slope(mlimY1g, LF_param['alpha'][0], LF_param['m_star_UV'][0], beta=None,fct=\"schechter\")\n",
    "alpha_bx_Y10 = 2.5 * slope(mlimY10g, LF_param['alpha'][0], LF_param['m_star_UV'][0], beta=None,fct=\"schechter\")\n",
    "\n",
    "n_eff_bx_Y1 = (3e4/(u.deg*u.deg)).to(1/(u.arcmin*u.arcmin)) \n",
    "n_eff_bx_Y10 = (3.*1e5/(u.deg*u.deg)).to(1/(u.arcmin*u.arcmin)) \n",
    "\n",
    "def mu_bx_pdz(z):\n",
    "    func = gaussian(z, 1, 2.20,0.80/(2*np.sqrt(2*np.log(2))))\n",
    "    return func/quad(lambda z: gaussian(z, 1, 2.20,0.80/(2*np.sqrt(2*np.log(2)))), 0, np.inf)[0]\n",
    "\n",
    "\n",
    "#MAGNIFICATION Euclid/WFIRST Halpha_________________________________________________________\n",
    "#https://arxiv.org/pdf/1710.00833.pdf\n",
    "\n",
    "alpha_ha =  2. #based on manual check\n",
    "n_eff_ha = (0.5 * 4256./(u.deg*u.deg)).to(1/(u.arcmin*u.arcmin)) \n",
    "#based on 1/3 * (counts_Ferr + counts_Cal + counts_Char) f>2x10^{-16} + 50% estimation probability to measure the redshift\n",
    "\n",
    "def halpha_pdz(z):\n",
    "    \"\"\"Redshift distribution function\"\"\"\n",
    "    #func = np.heaviside((z>0.9),0)*np.heaviside((z<1.8),0)*(z**0.106482)*np.exp(-(z/0.58316767))\n",
    "    func = np.heaviside((z>0.9),0)*np.heaviside((z<1.8),0)*(z**0.106482)*np.exp(-(z/0.58316767))\n",
    "    return func/quad(lambda z: np.heaviside((z>0.9),0)*np.heaviside((z<1.8),0)*(z**0.106482)*np.exp(-(z/0.58316767)), 0, np.inf)[0]\n",
    "\n",
    "#MAGNIFICATION DESI QSO_________________________________________________________\n",
    "alpha_qso =  2.5 *0.197 #for QSO based on last raw of Table 1 in https://www.aanda.org/articles/aa/pdf/2017/12/aa31850-17.pdf\n",
    "n_eff_qso = (170/(u.deg*u.deg)).to(1/(u.arcmin*u.arcmin)) #based on Table 3.1 in https://arxiv.org/pdf/1611.00036.pdf (measured redshift)\n",
    "\n",
    "def mu_qso_pdz(z):\n",
    "    norm =quad(QSO_pdf_z, 0, np.inf)[0]\n",
    "    return QSO_pdf_z(z)/norm\n",
    "\n",
    "mslope_z = -99"
   ]
  },
  {
   "cell_type": "markdown",
   "metadata": {},
   "source": [
    "# **2) Model computation**"
   ]
  },
  {
   "cell_type": "code",
   "execution_count": null,
   "metadata": {},
   "outputs": [],
   "source": [
    "n_e = n_e_Y1\n",
    "n_eff_dmu = n_eff_lbg_Y1\n",
    "alpha_dmu = alpha_lbg_Y1\n",
    "dmu_pdz = mu_lbg_pdz\n",
    "\n",
    "dict_profile = {'reduced shear': \\\n",
    "                {'model_func':  clmm.theory.compute_tangential_shear, \\\n",
    "                'noise_func': lambda Ngal: noise_shear(Ngal , s_e),\\\n",
    "                'model_arg': 1., \\\n",
    "                'source_pdz': shear_pdz,\\\n",
    "                'source_density': n_e,\\\n",
    "                'delta_z_cut' : 0.1}, \\\n",
    "                'density contrast': \\\n",
    "                {'model_func':  clmm.theory.compute_magnification, \\\n",
    "                'noise_func': noise_mag,\\\n",
    "                'model_arg': alpha_dmu, \\\n",
    "                'source_pdz': dmu_pdz,\\\n",
    "                'source_density': n_eff_dmu,\\\n",
    "                'delta_z_cut' : 0.1}, \\\n",
    "                'redshift depth contrast': \\\n",
    "                {'model_func':  clmm.theory.compute_magnification, \\\n",
    "                'noise_func': lambda Ngal: noise_zdepth(Ngal , mu_qso_pdz),\\\n",
    "                'model_arg': 2.5*mslope_z, \\\n",
    "                'source_pdz': mu_qso_pdz,\\\n",
    "                'source_density': n_eff_qso,\\\n",
    "                'delta_z_cut' : 0.1}}"
   ]
  },
  {
   "cell_type": "code",
   "execution_count": null,
   "metadata": {},
   "outputs": [],
   "source": [
    "lens_redshift = z_cl\n",
    "radial_unit, rmin, rmax = 'Mpc', 0.1, 8.\n",
    "nbins = 10\n",
    "method = 'evenlog10width'"
   ]
  },
  {
   "cell_type": "code",
   "execution_count": null,
   "metadata": {},
   "outputs": [],
   "source": [
    "bin_center_s, noise_s = np.zeros((2, nbins, len(lens_redshift)))\n",
    "bin_edges_s = np.zeros((nbins + 1, len(lens_redshift)))\n",
    "model_s = np.zeros((nbins, len(M200_cl), len(lens_redshift)))\n",
    "\n",
    "for i in range(len(lens_redshift)):\n",
    "    conc = get_halo_concentration(M200_cl, lens_redshift[i], cosmo_clmm, \"Diemer15\")\n",
    "    bin_center_s[:,i], bin_edges_s[:,i], noise_s[:,i], model_s[:,:,i] = \\\n",
    "    profile_determination(rmin, rmax, radial_unit , lens_redshift[i], M200_cl , \"reduced shear\",\\\n",
    "                          dict_profile, cosmo_clmm,   nbins=nbins, method=method,\\\n",
    "                          conc=conc, delta_mdef=200, zinf=1000)"
   ]
  },
  {
   "cell_type": "code",
   "execution_count": null,
   "metadata": {},
   "outputs": [],
   "source": [
    "bin_center_mu_lbg, noise_mu_lbg = np.zeros((2, nbins, len(lens_redshift)))\n",
    "bin_edges_mu_lbg = np.zeros((nbins + 1, len(lens_redshift)))\n",
    "model_mu_lbg = np.zeros((nbins, len(M200_cl), len(lens_redshift)))\n",
    "\n",
    "for i in range(len(lens_redshift)):\n",
    "    conc =  get_halo_concentration(M200_cl, lens_redshift[i], cosmo_clmm, \"Diemer15\")\n",
    "    bin_center_mu_lbg[:,i], bin_edges_mu_lbg[:,i], noise_mu_lbg[:,i] , model_mu_lbg[:,:,i] = \\\n",
    "            profile_determination(rmin, rmax, radial_unit , lens_redshift[i], M200_cl ,\\\n",
    "                                  \"density contrast\" , dict_profile, cosmo_clmm,   nbins=nbins, method=method,\\\n",
    "                                  conc=conc, delta_mdef=200, zinf=1000)"
   ]
  },
  {
   "cell_type": "code",
   "execution_count": null,
   "metadata": {},
   "outputs": [],
   "source": [
    "bin_center_mu_qso, noise_mu_qso = np.zeros((2, nbins, len(lens_redshift)))\n",
    "bin_edges_mu_qso = np.zeros((nbins + 1, len(lens_redshift)))\n",
    "model_mu_qso = np.zeros((nbins, len(M200_cl), len(lens_redshift)))\n",
    "modelz_mu_qso = np.zeros((nbins, len(M200_cl), 10000, len(lens_redshift)))\n",
    "\n",
    "for i in range(len(lens_redshift)):\n",
    "    conc =  get_halo_concentration(M200_cl, lens_redshift[i], cosmo_clmm, \"Diemer15\")\n",
    "    bin_center_mu_qso[:,i], bin_edges_mu_qso[:,i], noise_mu_qso[:,i], model_mu_qso[:,:,i], modelz_mu_qso[:,:,:,i] = \\\n",
    "            profile_determination(rmin, rmax, radial_unit , lens_redshift[i], M200_cl ,\\\n",
    "                                  \"redshift depth contrast\" ,dict_profile, cosmo_clmm,   nbins=nbins, method=method ,\\\n",
    "                                  conc=conc, delta_mdef=200, zinf=1000)"
   ]
  },
  {
   "cell_type": "code",
   "execution_count": null,
   "metadata": {},
   "outputs": [],
   "source": [
    "fig, ax = plt.subplots(2, 3,  figsize=(12,6), sharex=True, sharey=False)\n",
    "\n",
    "i,j = 4,1\n",
    "\n",
    "ax[0,0].errorbar(bin_center_s[:,j], model_s[:,i, j], yerr = noise_s[:,j], fmt='-x',  label = 'z_cl = '+str(lens_redshift[j]))\n",
    "ax[1,0].plot(bin_center_s[:,j], abs(model_s[:,i, j])/noise_s[:,j],'-x',  label = 'z_cl = '+str(lens_redshift[j]))\n",
    "\n",
    "ax[0,1].errorbar(bin_center_mu_lbg[:,j], model_mu_lbg[:,i, j], yerr = noise_mu_lbg[:,j], fmt='-x',  label = 'z_cl = '+str(lens_redshift[j]))\n",
    "ax[1,1].plot(bin_center_mu_lbg[:,j], abs(model_mu_lbg[:,i, j])/noise_mu_lbg[:,j],'-x',  label = 'z_cl = '+str(lens_redshift[j]))\n",
    "\n",
    "ax[0,2].errorbar(bin_center_mu_qso[:,j], model_mu_qso[:,i, j], yerr = noise_mu_qso[:,j], fmt='-x',  label = 'z_cl = '+str(lens_redshift[j]))\n",
    "ax[1,2].plot(bin_center_mu_qso[:,j], abs(model_mu_qso[:,i, j])/noise_mu_qso[:,j],'-x',  label = 'z_cl = '+str(lens_redshift[j]))\n",
    "\n",
    "\n",
    "#ax[0,0].set_xlim(0.2, 3.5)\n",
    "ax[0,0].legend(ncol=2, fontsize='x-small', loc=\"best\")\n",
    "ax[0,0].set_xscale('log')\n",
    "\n",
    "ax[0,0].set_ylabel('g(r)')\n",
    "ax[1,0].set_ylabel('SNR$_g$')\n",
    "\n",
    "ax[0,1].set_ylabel('$\\delta_{\\mu}$(r)')\n",
    "ax[1,1].set_ylabel('SNR$_{\\delta_{\\mu}}$')\n",
    "\n",
    "ax[0,2].set_ylabel('$\\delta_{\\mu,z}$(r)')\n",
    "ax[1,2].set_ylabel('SNR$_{\\delta_{\\mu,z}}$')\n",
    "\n",
    "fig.tight_layout()\n",
    "\n",
    "[ax[1,i].set_xlabel('r [' + radial_unit + ']') for i in [0,1,2]];"
   ]
  },
  {
   "cell_type": "markdown",
   "metadata": {},
   "source": [
    "# **3) $\\chi^2$ minimization to constrain the mass**"
   ]
  },
  {
   "cell_type": "code",
   "execution_count": null,
   "metadata": {},
   "outputs": [],
   "source": [
    "def predict_function_reduced_shear(radius_Mpc, logM, z_cl):\n",
    "    M_guess = 10**logM\n",
    "    conc_guess = get_halo_concentration(M_guess, z_cl, cosmo_clmm, \"Diemer15\")\n",
    "    return modele_determination(radius_Mpc, radial_unit, z_cl, M_guess, 'reduced shear', \\\n",
    "                                                     dict_profile, cosmo_clmm, conc=conc_guess, delta_mdef=200, zinf=1000)\n",
    "\n",
    "def predict_function_density_contrast(radius_Mpc, logM, z_cl):\n",
    "    M_guess = 10**logM\n",
    "    conc_guess = get_halo_concentration(M_guess, z_cl, cosmo_clmm, \"Diemer15\")\n",
    "    return modele_determination(radius_Mpc, radial_unit, z_cl, M_guess, 'density contrast', \\\n",
    "                                                     dict_profile, cosmo_clmm, conc=conc_guess, delta_mdef=200, zinf=1000)\n",
    "\n",
    "def predict_function_redshift_depth_contrast(radius_Mpc, logM, z_cl):\n",
    "    M_guess = 10**logM\n",
    "    conc_guess = get_halo_concentration(M_guess, z_cl, cosmo_clmm, \"Diemer15\")\n",
    "    return modele_determination(radius_Mpc, radial_unit, z_cl, M_guess, 'redshift depth contrast', \\\n",
    "                                                     dict_profile, cosmo_clmm, conc=conc_guess, delta_mdef=200, zinf=1000)[0]"
   ]
  },
  {
   "cell_type": "code",
   "execution_count": null,
   "metadata": {},
   "outputs": [],
   "source": [
    "def fit_mass(predict_function, bin_center, model, noise, z):\n",
    "    check = np.isfinite(model)\n",
    "    popt, pcov = fitters['curve_fit'](lambda radius_Mpc, logM: predict_function(radius_Mpc, logM, z),\n",
    "    bin_center[check], abs(model)[check], noise[check], bounds=[10.,17.], absolute_sigma=True, p0=(13), maxfev=2000)\n",
    "    logm, logm_err = popt[0], np.sqrt(pcov[0][0])\n",
    "    return {'logm':logm, 'logm_err':logm_err,\n",
    "            'm': 10**logm, 'm_err': (10**logm)*logm_err*np.log(10)}"
   ]
  },
  {
   "cell_type": "code",
   "execution_count": null,
   "metadata": {},
   "outputs": [],
   "source": [
    "#N_CL = np.ones((len(lens_redshift), len(M200_cl)))\n",
    "\n",
    "N_CL = N_halo*dz*dlog10m\n"
   ]
  },
  {
   "cell_type": "code",
   "execution_count": null,
   "metadata": {},
   "outputs": [],
   "source": [
    "fit_mass_shear = np.zeros((M200_cl.size, len(z_cl)), dtype=object)\n",
    "fit_mass_density = np.zeros((M200_cl.size, len(z_cl)), dtype=object)\n",
    "fit_mass_redshift = np.zeros((M200_cl.size, len(z_cl)), dtype=object)\n",
    "\n",
    "mass_eval_s = np.zeros((M200_cl.size, len(z_cl)))\n",
    "mass_min_s = np.zeros((M200_cl.size, len(z_cl)))\n",
    "mass_max_s = np.zeros((M200_cl.size, len(z_cl)))\n",
    "\n",
    "mass_eval_d = np.zeros((M200_cl.size, len(z_cl)))\n",
    "mass_min_d = np.zeros((M200_cl.size, len(z_cl)))\n",
    "mass_max_d = np.zeros((M200_cl.size, len(z_cl)))\n",
    "\n",
    "mass_eval_z = np.zeros((M200_cl.size, len(z_cl)))\n",
    "mass_min_z = np.zeros((M200_cl.size, len(z_cl)))\n",
    "mass_max_z = np.zeros((M200_cl.size, len(z_cl)))\n",
    "\n",
    "\n",
    "for i in range(M200_cl.size):\n",
    "    for j in range(len(z_cl)):\n",
    "        fit_mass_shear[i,j] = fit_mass(predict_function_reduced_shear, bin_center_s[:,j], model_s[:,i,j], noise_s[:,j]/np.sqrt(N_CL[j,i]), z_cl[j])\n",
    "        fit_mass_density[i,j] = fit_mass(predict_function_density_contrast, bin_center_mu_lbg[:,j], model_mu_lbg[:,i,j], noise_mu_lbg[:,j]/np.sqrt(N_CL[j,i]), z_cl[j])\n",
    "        fit_mass_redshift[i,j] = fit_mass(predict_function_redshift_depth_contrast, bin_center_mu_qso[:,j], model_mu_qso[:,i,j], noise_mu_qso[:,j]/np.sqrt(N_CL[j,i]), z_cl[j])\n",
    "              \n",
    "        mass_eval_s[i,j] = fit_mass_shear[i,j]['m']\n",
    "        mass_min_s[i,j] = fit_mass_shear[i,j]['m'] - fit_mass_shear[i,j]['m_err']\n",
    "        mass_max_s[i,j] = fit_mass_shear[i,j]['m'] + fit_mass_shear[i,j]['m_err']\n",
    "        \n",
    "        mass_eval_d[i,j] = fit_mass_density[i,j]['m']\n",
    "        mass_min_d[i,j] = fit_mass_density[i,j]['m'] - fit_mass_density[i,j]['m_err']\n",
    "        mass_max_d[i,j] = fit_mass_density[i,j]['m'] + fit_mass_density[i,j]['m_err']\n",
    "        \n",
    "        mass_eval_z[i,j] = fit_mass_redshift[i,j]['m']\n",
    "        mass_min_z[i,j] = fit_mass_redshift[i,j]['m'] - fit_mass_redshift[i,j]['m_err']\n",
    "        mass_max_z[i,j] = fit_mass_redshift[i,j]['m'] + fit_mass_redshift[i,j]['m_err']"
   ]
  },
  {
   "cell_type": "code",
   "execution_count": null,
   "metadata": {},
   "outputs": [],
   "source": [
    " fit_mass(predict_function_density_contrast, bin_center_mu_lbg[:,0],predict_function_density_contrast(bin_center_mu_lbg[:,0], 15, 0.3), np.zeros(10)+1e-4, 0.3)"
   ]
  },
  {
   "cell_type": "code",
   "execution_count": null,
   "metadata": {},
   "outputs": [],
   "source": [
    "def mass_minimization(chi2_val, mass_guess, s = np.array([1.,2.,3.]) ):\n",
    "    eval_mass, eval_mass_min, eval_mass_max = np.nan, np.nan, np.nan\n",
    "    if np.any(np.isfinite(chi2_val)):\n",
    "        chi2_val_itp_up = interpolate.interp1d(chi2_val[np.nanargmin(chi2_val) :], mass_guess[np.nanargmin(chi2_val) :], bounds_error= False)\n",
    "        chi2_val_itp_low = interpolate.interp1d(chi2_val[: np.nanargmin(chi2_val) + 1], mass_guess[: np.nanargmin(chi2_val) + 1], bounds_error= False)\n",
    "    \n",
    "        chi2_eval = stats.chi2.ppf(stats.chi2.cdf(s**2,1), 1)\n",
    "    \n",
    "        eval_mass = mass_guess[np.nanargmin(chi2_val)]\n",
    "        eval_mass_min = chi2_val_itp_low(np.nanmin(chi2_val) + stats.chi2.ppf(stats.chi2.cdf(s**2,1), 1))\n",
    "        eval_mass_max = chi2_val_itp_up(np.nanmin(chi2_val)  + stats.chi2.ppf(stats.chi2.cdf(s**2,1), 1))\n",
    "    \n",
    "    return eval_mass, eval_mass_min, eval_mass_max"
   ]
  },
  {
   "cell_type": "code",
   "execution_count": null,
   "metadata": {},
   "outputs": [],
   "source": [
    "def chi2 (data, error, model):\n",
    "    chi2 = (data - model)**2/error**2\n",
    "    return np.sum(chi2)"
   ]
  },
  {
   "cell_type": "code",
   "execution_count": null,
   "metadata": {},
   "outputs": [],
   "source": [
    "mass_guess = np.logspace(12,16,400, base=10)"
   ]
  },
  {
   "cell_type": "code",
   "execution_count": null,
   "metadata": {},
   "outputs": [],
   "source": [
    "model_guess_s, model_guess_mu_lbg, model_guess_mu_qso = np.zeros((3, bin_center_s[:,0].size, len(mass_guess), len(lens_redshift)))\n",
    "\n",
    "for i in range(len(lens_redshift)):\n",
    "    print(\"redhift\", lens_redshift[i])\n",
    "    conc_guess = get_halo_concentration(mass_guess, lens_redshift[i], cosmo_clmm, \"Diemer15\")\n",
    "    \n",
    "    model_guess_s[:,:,i]      = modele_determination(bin_center_s[:,0], radial_unit, lens_redshift[i], mass_guess, 'reduced shear', \\\n",
    "                                                     dict_profile, cosmo_clmm, conc=conc_guess, delta_mdef=200, zinf=1000)\n",
    "    model_guess_mu_lbg[:,:,i] = modele_determination(bin_center_s[:,0], radial_unit, lens_redshift[i], mass_guess, 'density contrast',\\\n",
    "                                                     dict_profile, cosmo_clmm, conc=conc_guess, delta_mdef=200, zinf=1000)\n",
    "    model_guess_mu_qso[:,:,i] = modele_determination(bin_center_s[:,0], radial_unit, lens_redshift[i], mass_guess, 'redshift depth contrast',\\\n",
    "                                                     dict_profile, cosmo_clmm, conc=conc_guess, delta_mdef=200, zinf=1000)[0]"
   ]
  },
  {
   "cell_type": "code",
   "execution_count": null,
   "metadata": {},
   "outputs": [],
   "source": [
    "chi2_val_s = np.zeros((len(mass_guess), len(M200_cl),  len(lens_redshift)))\n",
    "chi2_val_mu_lbg = np.zeros((len(mass_guess), len(M200_cl),  len(lens_redshift)))\n",
    "chi2_val_mu_qso = np.zeros((len(mass_guess), len(M200_cl),  len(lens_redshift)))\n",
    "\n",
    "N_S   = 1.\n",
    "N_LBG = 1.\n",
    "N_QSO = 1.\n",
    "\n",
    "N_CL = np.ones((len(lens_redshift), len(M200_cl)))\n",
    "\n",
    "N_CL = N_halo*dz*dlog10m\n",
    "\n",
    "for i in range(len(lens_redshift)):\n",
    "    for j in range(len(M200_cl)):\n",
    "        for k in range(len(mass_guess)):\n",
    "            chi2_val_s[k, j,i] = chi2(model_s[:,j,i], noise_s[:,i]/np.sqrt(N_CL[i,j]), model_guess_s[:,k,i])\n",
    "            chi2_val_mu_lbg[k, j,i] = chi2(model_mu_lbg[:,j,i], noise_mu_lbg[:,i]/np.sqrt(N_CL[i,j]), model_guess_mu_lbg[:,k,i])\n",
    "            chi2_val_mu_qso[k, j,i] = chi2(model_mu_qso[:,j,i], noise_mu_qso[:,i]/np.sqrt(N_CL[i,j]), model_guess_mu_qso[:,k,i])"
   ]
  },
  {
   "cell_type": "code",
   "execution_count": null,
   "metadata": {},
   "outputs": [],
   "source": [
    "eval_mass_s, eval_mass_min_s, eval_mass_max_s = np.zeros((3, len(M200_cl),  len(lens_redshift)))\n",
    "eval_mass_mu_lbg, eval_mass_min_mu_lbg, eval_mass_max_mu_lbg = np.zeros((3, len(M200_cl),  len(lens_redshift)))\n",
    "eval_mass_mu_qso, eval_mass_min_mu_qso, eval_mass_max_mu_qso = np.zeros((3, len(M200_cl),  len(lens_redshift)))\n",
    "\n",
    "for i in range(len(lens_redshift)):\n",
    "    for j in range(len(M200_cl)):\n",
    "        eval_mass_s[j,i], eval_mass_min_s[j,i], eval_mass_max_s[j,i] = mass_minimization(chi2_val_s[:, j,i], mass_guess, s = 1.)\n",
    "        eval_mass_mu_lbg[j,i], eval_mass_min_mu_lbg[j,i], eval_mass_max_mu_lbg[j,i] = mass_minimization(chi2_val_mu_lbg[:, j,i], mass_guess, s = 1.)\n",
    "        eval_mass_mu_qso[j,i], eval_mass_min_mu_qso[j,i], eval_mass_max_mu_qso[j,i] = mass_minimization(chi2_val_mu_qso[:, j,i], mass_guess, s = 1.)"
   ]
  },
  {
   "cell_type": "code",
   "execution_count": null,
   "metadata": {},
   "outputs": [],
   "source": [
    "eval_mass_comb, eval_mass_min_comb, eval_mass_max_comb  = np.zeros((3, len(M200_cl),  len(lens_redshift)))\n",
    "eval_mass_comb_mu, eval_mass_min_comb_mu, eval_mass_max_comb_mu  = np.zeros((3, len(M200_cl),  len(lens_redshift)))\n",
    "\n",
    "for i in range(len(lens_redshift)):\n",
    "    for j in range(len(M200_cl)):\n",
    "        eval_mass_comb[j,i], eval_mass_min_comb[j,i], eval_mass_max_comb[j,i] = mass_minimization(chi2_val_s[:, j,i] + chi2_val_mu_lbg[:, j,i] + chi2_val_mu_qso[:, j,i], mass_guess, s = 1.)\n",
    "        eval_mass_comb_mu[j,i], eval_mass_min_comb_mu[j,i], eval_mass_max_comb_mu[j,i] = mass_minimization(chi2_val_mu_lbg[:, j,i] + chi2_val_mu_qso[:, j,i], mass_guess, s = 1.)"
   ]
  },
  {
   "cell_type": "code",
   "execution_count": null,
   "metadata": {},
   "outputs": [],
   "source": [
    "decal = 1 + np.linspace(-0.15,0.15,len(z_cl))\n",
    "\n",
    "fig, (ax1, ax2, ax3) = plt.subplots(1,3,  figsize=(22,6), sharex=True, sharey=True)\n",
    "\n",
    "[ax1.errorbar(M200_cl*decal[i], eval_mass_s[:,i], yerr = [eval_mass_s[:,i] - eval_mass_min_s[:,i], eval_mass_max_s[:,i] - eval_mass_s[:,i]], \\\n",
    " lolims=np.isnan(eval_mass_min_s[:,i]),  uplims=np.isnan(eval_mass_max_s[:,i]),  capsize=3, fmt='.', label=\"z =\" +str(z_cl[i])) for i in range(len(lens_redshift))];\n",
    "\n",
    "\n",
    "\n",
    "[ax2.errorbar(M200_cl*decal[i], eval_mass_mu_lbg[:,i], yerr = [eval_mass_mu_lbg[:,i] - eval_mass_min_mu_lbg[:,i], eval_mass_max_mu_lbg[:,i] - eval_mass_mu_lbg[:,i]],\\\n",
    "              lolims=np.isnan(eval_mass_min_mu_lbg[:,i]),  uplims=np.isnan(eval_mass_max_mu_lbg[:,i]),capsize=3, fmt='.', label=\"z =\" +str(z_cl[i])) for i in range(len(lens_redshift))];\n",
    "\n",
    "[ax3.errorbar(M200_cl*decal[i], eval_mass_mu_qso[:,i], yerr = [eval_mass_mu_qso[:,i] - eval_mass_min_mu_qso[:,i], eval_mass_max_mu_qso[:,i] - eval_mass_mu_qso[:,i]], \\\n",
    "               lolims=np.isnan(eval_mass_min_mu_qso[:,i]),  uplims=np.isnan(eval_mass_max_mu_qso[:,i]) ,capsize=3,  fmt='.', label=\"z =\" +str(z_cl[i]) ) for i in range(len(lens_redshift))];\n",
    "    \n",
    "#[ax3.plot(M200_cl*decal[i], eval_mass_mu_qso[:,i],'.') for i in range(len(lens_redshift))];#, yerr = [eval_mass_mu_qso[:,i] - eval_mass_min_mu_qso[:,i], eval_mass_max_mu_qso[:,i] - eval_mass_mu_qso[:,i]], lolims=True, uplims=True ,fmt='.', label=\"z =\" +str(z_cl[i]) ) for i in range(len(lens_redshift))];\n",
    "  \n",
    "    \n",
    "ax1.set_xscale('log')\n",
    "ax1.set_yscale('log')\n",
    "\n",
    "ax1.set_ylabel(\"mass eval. shear\");\n",
    "ax2.set_ylabel(\"mass eval. mag. LBG\");\n",
    "ax3.set_ylabel(\"mass eval. mag. QSO\");\n",
    "\n",
    "for i in (ax1,ax2,ax3):\n",
    "    i.plot(M200_cl, M200_cl,alpha=0.2)\n",
    "    i.set_xlabel(\"mass input\")\n",
    "    i.grid()\n",
    "    i.legend(loc='lower right',ncol=2,frameon=False)\n",
    "    \n",
    "N_S = N_LBG = N_QSO = \"expected LSST NC\"\n",
    "#N_S = N_LBG = N_QSO = \"one cluster\"\n",
    "\n",
    "ax1.text(5*1e13, 5e15, 'X ' + str(N_S), fontsize='x-large')\n",
    "ax2.text(5*1e13, 5e15, 'X ' + str(N_LBG), fontsize='x-large')\n",
    "ax3.text(5*1e13, 5e15, 'X ' + str(N_QSO), fontsize='x-large')\n",
    "\n",
    "ax1.set_ylim(1e13,1e16)\n",
    "fig.tight_layout()"
   ]
  },
  {
   "cell_type": "code",
   "execution_count": null,
   "metadata": {},
   "outputs": [],
   "source": [
    "decal = 1 + np.linspace(-0.15,0.15,len(z_cl))\n",
    "\n",
    "fig, (ax1, ax2, ax3) = plt.subplots(1,3,  figsize=(22,6), sharex=True, sharey=True)\n",
    "\n",
    "[ax1.errorbar(M200_cl*decal[i], mass_eval_s[:,i], yerr = [mass_eval_s[:,i] - mass_min_s[:,i], mass_max_s[:,i] - mass_eval_s[:,i]], \\\n",
    " lolims=np.isnan(mass_eval_s[:,i]),  uplims=np.isnan(mass_eval_s[:,i]),  capsize=3, fmt='.', label=\"z =\" +str(z_cl[i])) for i in range(len(lens_redshift))];\n",
    "\n",
    "#[ax2.errorbar(M200_cl*decal[i], mass_eval_d[:,i], yerr = [mass_eval_d[:,i] - mass_min_d[:,i], mass_max_d[:,i] - mass_eval_d[:,i]], \\\n",
    "# lolims=np.isnan(mass_eval_d[:,i]),  uplims=np.isnan(mass_eval_d[:,i]),  capsize=3, fmt='.', label=\"z =\" +str(z_cl[i])) for i in range(len(lens_redshift))];\n",
    "\n",
    "[ax2.errorbar(M200_cl*decal[i], M200_cl, yerr = [M200_cl - mass_min_d[:,i], mass_max_d[:,i] - M200_cl], \\\n",
    " lolims=np.isnan(mass_eval_d[:,i]),  uplims=np.isnan(mass_eval_d[:,i]),  capsize=3, fmt='.', label=\"z =\" +str(z_cl[i])) for i in range(len(lens_redshift))]\n",
    "\n",
    "\n",
    "[ax3.errorbar(M200_cl*decal[i], mass_eval_z[:,i], yerr = [mass_eval_z[:,i] - mass_min_z[:,i], mass_max_z[:,i] - mass_eval_z[:,i]], \\\n",
    " lolims=np.isnan(mass_eval_z[:,i]),  uplims=np.isnan(mass_eval_z[:,i]),  capsize=3, fmt='.', label=\"z =\" +str(z_cl[i])) for i in range(len(lens_redshift))];\n",
    "\n",
    "\n",
    "    \n",
    "ax1.set_xscale('log')\n",
    "ax1.set_yscale('log')\n",
    "\n",
    "ax1.set_ylabel(\"mass eval. shear\");\n",
    "ax2.set_ylabel(\"mass eval. mag. LBG\");\n",
    "ax3.set_ylabel(\"mass eval. mag. QSO\");\n",
    "\n",
    "for i in (ax1,ax2,ax3):\n",
    "    i.plot(M200_cl, M200_cl,alpha=0.2)\n",
    "    i.set_xlabel(\"mass input\")\n",
    "    i.grid()\n",
    "    i.legend(loc='lower right',ncol=2,frameon=False)\n",
    "    \n",
    "#N_S = N_LBG = N_QSO = \"expected LSST NC\"\n",
    "N_S = N_LBG = N_QSO = \"one cluster\"\n",
    "\n",
    "ax1.text(5*1e13, 5e15, 'X ' + str(N_S), fontsize='x-large')\n",
    "ax2.text(5*1e13, 5e15, 'X ' + str(N_LBG), fontsize='x-large')\n",
    "ax3.text(5*1e13, 5e15, 'X ' + str(N_QSO), fontsize='x-large')\n",
    "\n",
    "ax1.set_ylim(1e10,1e16)\n",
    "fig.tight_layout()"
   ]
  },
  {
   "cell_type": "code",
   "execution_count": null,
   "metadata": {},
   "outputs": [],
   "source": [
    "#relative error on mass from shear alone and shear + magnification (QSO & LBG) combined\n",
    "\n",
    "fig, (ax1, ax2) = plt.subplots(1,2,  figsize=(18,6), sharey=True)\n",
    "\n",
    "[ax1.plot(M200_cl*decal[i], 100*0.5*(eval_mass_max_s[:,i]  - eval_mass_min_s[:,i])/ eval_mass_s[:,i] ,'o--', alpha=0.5, label=\"z =\" +str(z_cl[i])) for i in range(len(lens_redshift))];\n",
    "[ax1.plot(M200_cl*decal[i], 100*0.5*(eval_mass_max_mu_lbg[:,i]  - eval_mass_min_mu_lbg[:,i])/ eval_mass_mu_lbg[:,i] ,'s-' ,mfc='None' , alpha=1, label=\"z =\" +str(z_cl[i])) for i in range(len(lens_redshift))];\n",
    "#[ax1.plot(M200_cl*decal[i], 100*0.5*(eval_mass_max_comb_mu[:,i]  - eval_mass_min_comb_mu[:,i])/ eval_mass_comb_mu[:,i] ,'kx-',alpha=0.5) for i in range(len(lens_redshift))];\n",
    "\n",
    "ax1.set_xscale('log')\n",
    "#ax1.set_yscale('log')\n",
    "\n",
    "ax1.set_xlabel(\"mass input\")\n",
    "ax1.set_ylabel(\"% error on mass eval. shear\");\n",
    "ax1.grid()\n",
    "\n",
    "#ax1.legend(loc='best',ncol=2,frameon=False)\n",
    "ax1.axhline(5, color='black', linestyle='dotted')\n",
    "ax1.axhline(10, color='black', linestyle='dotted')\n",
    "\n",
    "ax1.set_yscale('log')\n",
    "\n",
    "\n",
    "\n",
    "\n",
    "[ax2.plot(z_cl, 100*0.5*(eval_mass_max_s[i,:]  - eval_mass_min_s[i,:])/ eval_mass_s[i,:] ,'o--', alpha=0.5, label=\"z =\" +str(M200_cl[i])) for i in range(len(M200_cl))];\n",
    "[ax2.plot(z_cl, 100*0.5*(eval_mass_max_mu_lbg[i,:]  - eval_mass_min_mu_lbg[i,:])/ eval_mass_mu_lbg[i,:] ,'s-' ,mfc='None' , alpha=1, label=\"z =\" +str(M200_cl[i])) for i in range(len(M200_cl))];\n",
    "#[ax2.plot(z_cl, 100*0.5*(eval_mass_max_comb_mu[i,:]  - eval_mass_min_comb_mu[i,:])/ eval_mass_comb_mu[i,:] ,'kx-',alpha=0.5) for i in range(len(M200_cl))];\n",
    "\n",
    "#ax1.set_yscale('log')\n",
    "\n",
    "ax2.set_xlabel(\"z\")\n",
    "ax2.set_ylabel(\"% error on mass eval. shear\");\n",
    "ax2.grid()\n",
    "\n",
    "#ax1.legend(loc='best',ncol=2,frameon=False)\n",
    "ax2.axhline(5, color='black', linestyle='dotted')\n",
    "ax2.axhline(10, color='black', linestyle='dotted')\n"
   ]
  },
  {
   "cell_type": "code",
   "execution_count": null,
   "metadata": {},
   "outputs": [],
   "source": []
  }
 ],
 "metadata": {
  "kernelspec": {
   "display_name": "desc",
   "language": "python",
   "name": "desc"
  },
  "language_info": {
   "codemirror_mode": {
    "name": "ipython",
    "version": 3
   },
   "file_extension": ".py",
   "mimetype": "text/x-python",
   "name": "python",
   "nbconvert_exporter": "python",
   "pygments_lexer": "ipython3",
   "version": "3.8.8"
  }
 },
 "nbformat": 4,
 "nbformat_minor": 4
}
