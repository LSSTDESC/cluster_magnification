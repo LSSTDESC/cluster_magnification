{
 "cells": [
  {
   "cell_type": "markdown",
   "metadata": {},
   "source": [
    "## Goal : check shear SNR prediction vs CLMM mock data"
   ]
  },
  {
   "cell_type": "code",
   "execution_count": null,
   "metadata": {},
   "outputs": [],
   "source": [
    "import os\n",
    "os.environ['CLMM_MODELING_BACKEND'] = 'ccl' # here you may choose ccl, nc (NumCosmo) or ct (cluster_toolkit)\n",
    "\n",
    "\n",
    "import numpy as np\n",
    "import matplotlib.pyplot as plt\n",
    "%matplotlib inline\n",
    "import matplotlib\n",
    "matplotlib.rcParams.update({'font.size': 16})\n",
    "from astropy.cosmology import FlatLambdaCDM\n",
    "from astropy import units as u\n",
    "from astropy.io import ascii\n",
    "from scipy.optimize import curve_fit\n",
    "from scipy.integrate import quad\n",
    "from scipy import stats, interpolate\n",
    "\n",
    "import sys\n",
    "sys.path.append('../../')\n",
    "import magnification_library as magnification_library\n",
    "from magnification_library import *\n",
    "\n",
    "import clmm\n",
    "import clmm.support.mock_data as mock\n",
    "import pyccl\n",
    "\n",
    "from importlib import reload  \n",
    "import pandas as pd"
   ]
  },
  {
   "cell_type": "code",
   "execution_count": null,
   "metadata": {},
   "outputs": [],
   "source": [
    "clmm.__version__"
   ]
  },
  {
   "cell_type": "code",
   "execution_count": null,
   "metadata": {},
   "outputs": [],
   "source": [
    "reload(magnification_library)"
   ]
  },
  {
   "cell_type": "code",
   "execution_count": null,
   "metadata": {},
   "outputs": [],
   "source": [
    "#define cosmology\n",
    "\n",
    "#astropy object\n",
    "cosmo = FlatLambdaCDM(H0=71, Om0=0.265, Tcmb0=0 , Neff=3.04, m_nu=None, Ob0=0.0448)\n",
    "\n",
    "#ccl object\n",
    "cosmo_ccl = pyccl.Cosmology(Omega_c=cosmo.Om0-cosmo.Ob0, Omega_b=cosmo.Ob0,\n",
    "                      h=cosmo.h, sigma8= 0.80, n_s=0.963)\n",
    "#clmm object\n",
    "cosmo_clmm = clmm.Cosmology(be_cosmo=cosmo_ccl)"
   ]
  },
  {
   "cell_type": "code",
   "execution_count": null,
   "metadata": {},
   "outputs": [],
   "source": [
    "path_file = '../../../'"
   ]
  },
  {
   "cell_type": "code",
   "execution_count": null,
   "metadata": {},
   "outputs": [],
   "source": [
    "#computation utils properties\n",
    "z_s = np.linspace(0.001, 4, 1000)\n",
    "zinf = 1000 \n"
   ]
  },
  {
   "cell_type": "code",
   "execution_count": null,
   "metadata": {},
   "outputs": [],
   "source": [
    "key = 'LBGp'\n",
    "quant = np.load(path_file + \"output_data/binned_correleation_fct_Mpc_\"+key+\".npy\", allow_pickle=True)"
   ]
  },
  {
   "cell_type": "code",
   "execution_count": null,
   "metadata": {},
   "outputs": [],
   "source": [
    "\n",
    "gal_cat_raw =  pd.read_hdf(path_file+'input_data/cat_'+key+'.h5', key=key)\n",
    "dat = np.load(path_file+\"input_data/source_sample_properties.npy\", allow_pickle=True)\n",
    "mag_cut, alpha_cut, mag_null, gal_dens, zmean = dat[np.where(dat[:,0]==key)][0][1:]\n",
    "\n",
    "print (alpha_cut)\n",
    "mag_cut"
   ]
  },
  {
   "cell_type": "code",
   "execution_count": null,
   "metadata": {},
   "outputs": [],
   "source": [
    "selection_source = (gal_cat_raw['ra']>50) & (gal_cat_raw['ra']<73.1) & (gal_cat_raw['dec']<-27.) & (gal_cat_raw['dec']>-45.)\n",
    "selection = selection_source & (gal_cat_raw['mag_i_lsst']<mag_cut) & (gal_cat_raw['redshift']>1.5)\n",
    "\n",
    "gal_cat = gal_cat_raw[selection]"
   ]
  },
  {
   "cell_type": "markdown",
   "metadata": {},
   "source": [
    "### Source / lens properties"
   ]
  },
  {
   "cell_type": "code",
   "execution_count": null,
   "metadata": {},
   "outputs": [],
   "source": [
    "#Source galaxies properties \n",
    "#(source shear shot noise or LF slope, source density, redshift distribution parametrization)\n",
    "\n",
    "\n",
    "#MAGNIFICATION LSST u-dropout_________________________________________________________\n",
    "#see Fig 6 in https://arxiv.org/pdf/1904.13378.pdf for u-dropout\n",
    "\n",
    "#At z~3 the LSST band corresponding to UV ~ 1500 Angstrom is the r band.\n",
    "#limiting mag from C1 in https://arxiv.org/pdf/1809.01669.pdf\n",
    "mlim = 25.495 #i band\n",
    "\n",
    "alpha_lbg = 3.321\n",
    "\n",
    "n_eff_lbg = 0.54/(u.arcmin*u.arcmin)\n",
    "\n",
    "def mu_lbg_pdz(z):\n",
    "    func = gaussian(z, 1, 2.6, 0.61/(2*np.sqrt(2*np.log(2))))\n",
    "    return func/quad(lambda z: gaussian(z, 1, 2.6,0.61/(2*np.sqrt(2*np.log(2)))), 0, np.inf)[0]"
   ]
  },
  {
   "cell_type": "code",
   "execution_count": null,
   "metadata": {},
   "outputs": [],
   "source": [
    "plt.plot(z_s, mu_lbg_pdz(z_s), 'C1',  label = '$\\mu$ cosmoDC2 LBG')\n",
    "\n",
    "plt.plot(z_s, np.heaviside(z_s-2,0)* np.heaviside(3-z_s,0))\n",
    "\n",
    "plt.xlabel('z')\n",
    "plt.ylabel(\"p(z)\")\n",
    "plt.legend();"
   ]
  },
  {
   "cell_type": "code",
   "execution_count": null,
   "metadata": {},
   "outputs": [],
   "source": [
    "hist = plt.hist(gal_cat['redshift'][selection], bins=100, range=[1.8,3.1], density=True, stacked=True);\n",
    "pdf_zsource = zpdf_from_hist(hist, zmin=0, zmax=10)\n",
    "\n",
    "plt.plot(pdf_zsource.x, pdf_zsource.y, 'r')\n",
    "plt.xlim(1,3.4)\n",
    "\n",
    "plt.plot(z_s, mu_lbg_pdz(z_s), 'C1',  label = '$\\mu$ cosmoDC2 LBG')\n",
    "\n",
    "plt.plot(z_s, np.heaviside(z_s-2,0)* np.heaviside(3.1-z_s,0) * pdf_zsource(z_s),'g')\n",
    "\n",
    "plt.xlabel('z source')\n",
    "plt.ylabel('pdf')"
   ]
  },
  {
   "cell_type": "code",
   "execution_count": null,
   "metadata": {},
   "outputs": [],
   "source": [
    "def get_halo_concentration(mass_lens, z_lens, cosmo_ccl, relation=\"Diemer15\", mdef=\"matter\", delta_so=200):\n",
    "    mdef = pyccl.halos.massdef.MassDef(delta_so, mdef, c_m_relation=relation)\n",
    "    concdef = pyccl.halos.concentration.concentration_from_name(relation)()\n",
    "    conc = concdef.get_concentration(cosmo=cosmo_clmm.be_cosmo, M=mass_lens, a=cosmo_clmm.get_a_from_z(z=z_lens), mdef_other=mdef)\n",
    "    return conc "
   ]
  },
  {
   "cell_type": "code",
   "execution_count": null,
   "metadata": {},
   "outputs": [],
   "source": [
    "#Lens properties\n",
    "\n",
    "\n",
    "[z_cl, mass_cl, n_halo] = np.load(path_file + \"output_data/halo_bin_properties.npy\", allow_pickle=True)\n",
    "Delta_SO = 200\n",
    "#concentration = get_halo_concentration(mass_cl, z_cl, cosmo_clmm.be_cosmo, \"Diemer15\", \"matter\", Delta_SO )"
   ]
  },
  {
   "cell_type": "markdown",
   "metadata": {},
   "source": [
    "## - Model construction"
   ]
  },
  {
   "cell_type": "code",
   "execution_count": null,
   "metadata": {},
   "outputs": [],
   "source": [
    "radial_unit, rmin, rmax, nbins, method = 'Mpc', 0.1, 7, 10, 'evenlog10width'\n",
    "binedges = clmm.utils.make_bins(rmin, rmax, nbins=nbins, method=method)"
   ]
  },
  {
   "cell_type": "code",
   "execution_count": null,
   "metadata": {},
   "outputs": [],
   "source": [
    "dict_profile = {'density contrast conv.': \\\n",
    "                {'model_func':  clmm.theory.compute_convergence, \\\n",
    "                'noise_func': noise_mag,\\\n",
    "                'model_arg': 2 * abs(alpha_lbg-1), \\\n",
    "                'source_pdz': mu_lbg_pdz,\\\n",
    "                'source_density': n_eff_lbg,\\\n",
    "                'delta_z_cut' : 0.1},\n",
    "                'density contrast': \\\n",
    "                {'model_func':  clmm.theory.compute_magnification, \\\n",
    "                'noise_func': noise_mag,\\\n",
    "                'model_arg': alpha_lbg, \\\n",
    "                'source_pdz': pdf_zsource ,\\\n",
    "                'source_density': n_eff_lbg,\\\n",
    "                'delta_z_cut' : 0.1}}\n"
   ]
  },
  {
   "cell_type": "code",
   "execution_count": null,
   "metadata": {},
   "outputs": [],
   "source": [
    "profile_type = \"density contrast\""
   ]
  },
  {
   "cell_type": "code",
   "execution_count": null,
   "metadata": {},
   "outputs": [],
   "source": [
    "bin_center, bin_edges, noise, model, Ngal = np.zeros((5, 5, 5), dtype=object)\n",
    "\n",
    "for i in range(z_cl.shape[0]):\n",
    "    for j in range(z_cl.shape[1]):\n",
    "        concentration = get_halo_concentration(mass_cl[i,j], z_cl[i,j], cosmo_clmm.be_cosmo, \"Diemer15\", \"matter\", Delta_SO )\n",
    "        bin_center[i,j], bin_edges[i,j], noise[i,j], model[i,j] = profile_determination(rmin, rmax, radial_unit , z_cl[i,j], mass_cl[i,j] , profile_type , dict_profile, cosmo_clmm, nbins, method=method, conc=concentration, delta_mdef=200, zinf=zinf)\n",
    "        bin_center[i,j], bin_edges[i,j], Ngal[i,j] = compute_source_number_per_bin(rmin, rmax, radial_unit, z_cl[i,j], dict_profile[profile_type]['source_pdz'], dict_profile[profile_type]['source_density'], nbins, method, cosmo_clmm)"
   ]
  },
  {
   "cell_type": "markdown",
   "metadata": {},
   "source": [
    "## - Noise contribution from the profile construction"
   ]
  },
  {
   "cell_type": "code",
   "execution_count": null,
   "metadata": {},
   "outputs": [],
   "source": [
    "i,j = 0,0\n",
    "\n",
    "\n",
    "fig, axes = plt.subplots(5,5, figsize=[20,15], sharex=True)\n",
    "\n",
    "\n",
    "for i,h in zip([0,1,2,3,4],range(5)):\n",
    "    for j,k in zip([0,1,2,3,4],range(5)):\n",
    "        \n",
    "        ax = axes[5-1-k,h]\n",
    "        \n",
    "        ax.errorbar(bin_center[i,j], model[i,j], xerr = [bin_center[i,j] - bin_edges[i,j][0:-1], bin_edges[i,j][1:] - bin_center[i,j]],\\\n",
    "             fmt='.-', lw=3, label='profile noise model', yerr = noise[i,j]/np.sqrt(n_halo[i,j]))\n",
    "\n",
    "        ax.fill_between(quant[i,j][0], y1= quant[i,j][1] - np.sqrt(np.diag(quant[i,j][2])),\\\n",
    "                 y2 =  quant[i,j][1]  + np.sqrt(np.diag(quant[i,j][2])),color = 'grey', alpha=0.4)\n",
    "        \n",
    "        ax.errorbar(quant[i,j][0], quant[i,j][1], fmt='r.', lw=2, label='profile noise model', yerr = noise[i,j]/np.sqrt(n_halo[i,j]))\n",
    "        \n",
    "\n",
    "#plt.ylim(0)\n",
    "        ax.grid()\n",
    "    \n",
    "axes[0,0].set_xscale('log')\n",
    "\n",
    "plt.legend(fontsize='x-small')\n",
    "\n",
    "plt.ylabel(profile_type)\n",
    "plt.xlabel('r [' + radial_unit + ']');\n",
    "\n",
    "\n",
    "for i in range(axes.shape[0]):\n",
    "    axes[4,i].set_ylim(-0.2,0.6)\n",
    "    axes[3,i].set_ylim(-0.2,1.3)\n",
    "    axes[2,i].set_ylim(-0.2,1.3)\n",
    "    axes[1,i].set_ylim(-0.2,2.0)\n",
    "    axes[0,i].set_ylim(-0.2,2.5)"
   ]
  },
  {
   "cell_type": "code",
   "execution_count": null,
   "metadata": {},
   "outputs": [],
   "source": [
    "fig, axes = plt.subplots(5,5, figsize=[20,15], sharex=True, sharey=True)\n",
    "\n",
    "\n",
    "for i,h in zip([0,1,2,3,4],range(5)):\n",
    "    for j,k in zip([0,1,2,3,4],range(5)):\n",
    "        \n",
    "        ax = axes[5-1-k,h]\n",
    "\n",
    "        ax.plot(bin_center[i,j], np.sqrt(np.diag(quant[i,j][2])) / (noise[i,j]/np.sqrt(n_halo[i,j])),'o-')\n",
    "        \n",
    "        ax.grid()\n",
    "    \n",
    "axes[0,0].set_xscale('log')"
   ]
  },
  {
   "cell_type": "code",
   "execution_count": null,
   "metadata": {},
   "outputs": [],
   "source": [
    "fig, axes = plt.subplots(5,5, figsize=[20,15], sharex=True, sharey=True)\n",
    "\n",
    "\n",
    "for i,h in zip([0,1,2,3,4],range(5)):\n",
    "    for j,k in zip([0,1,2,3,4],range(5)):\n",
    "        \n",
    "        ax = axes[5-1-k,h]\n",
    "\n",
    "        ax.plot(bin_center[i,j], 1/(np.diag(quant[i,j][2])),'o-')\n",
    "        ax.plot(bin_center[i,j],  (Ngal[i,j]*n_halo[i,j]),'ro-')\n",
    "        \n",
    "        ax.grid()\n",
    "    \n",
    "axes[0,0].set_xscale('log')\n",
    "axes[0,0].set_yscale('log')"
   ]
  }
 ],
 "metadata": {
  "kernelspec": {
   "display_name": "desc",
   "language": "python",
   "name": "desc"
  },
  "language_info": {
   "codemirror_mode": {
    "name": "ipython",
    "version": 3
   },
   "file_extension": ".py",
   "mimetype": "text/x-python",
   "name": "python",
   "nbconvert_exporter": "python",
   "pygments_lexer": "ipython3",
   "version": "3.8.8"
  }
 },
 "nbformat": 4,
 "nbformat_minor": 4
}
