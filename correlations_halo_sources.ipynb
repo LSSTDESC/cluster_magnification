{
 "cells": [
  {
   "cell_type": "markdown",
   "metadata": {},
   "source": [
    "# TODO : \n",
    "- [ ] understand what's going on with covariance matrices\n",
    "- [ ] understand how to better use patches \n",
    "- [ ] write preliminary results with cov = shot_noise "
   ]
  },
  {
   "cell_type": "code",
   "execution_count": 1,
   "metadata": {},
   "outputs": [
    {
     "name": "stderr",
     "output_type": "stream",
     "text": [
      "/pbs/throng/lsst/software/desc/common/miniconda/py3.7-4.7.12.1-v2/envs/desc/lib/python3.7/site-packages/GCRCatalogs/register.py:138: UserWarning: Site determined from env variable DESC_GCR_SITE = in2p3, which differs from node name 291d02a6bba2\n",
      "  self._DESC_SITE_ENV, site_from_env, site_from_socket\n"
     ]
    }
   ],
   "source": [
    "import treecorr\n",
    "import numpy as np\n",
    "from astropy.table import Table\n",
    "from astropy.cosmology import FlatLambdaCDM\n",
    "from matplotlib import pyplot as plt\n",
    "from astropy.io import ascii\n",
    "import GCRCatalogs\n",
    "from GCR import GCRQuery\n",
    "import healpy\n",
    "import astropy.units as u\n",
    "import pandas as pd\n",
    "import matplotlib\n",
    "from magnification_library import *"
   ]
  },
  {
   "cell_type": "code",
   "execution_count": 2,
   "metadata": {},
   "outputs": [
    {
     "data": {
      "text/plain": [
       "'4.1.3'"
      ]
     },
     "execution_count": 2,
     "metadata": {},
     "output_type": "execute_result"
    }
   ],
   "source": [
    "treecorr.__version__"
   ]
  },
  {
   "cell_type": "code",
   "execution_count": 3,
   "metadata": {},
   "outputs": [],
   "source": [
    "matplotlib.rcParams.update({'font.size': 14})"
   ]
  },
  {
   "cell_type": "code",
   "execution_count": 4,
   "metadata": {},
   "outputs": [],
   "source": [
    "#extragalactic_cat = GCRCatalogs.load_catalog('cosmoDC2_v1.1.4_image')"
   ]
  },
  {
   "cell_type": "code",
   "execution_count": 5,
   "metadata": {},
   "outputs": [],
   "source": [
    "#cosmo = extragalactic_cat.cosmology"
   ]
  },
  {
   "cell_type": "code",
   "execution_count": 6,
   "metadata": {},
   "outputs": [],
   "source": [
    "cosmo = FlatLambdaCDM(H0=71, Om0=0.265, Tcmb0=0 , Neff=3.04, m_nu=None, Ob0=0.0448)"
   ]
  },
  {
   "cell_type": "code",
   "execution_count": 7,
   "metadata": {},
   "outputs": [],
   "source": [
    "def rand_cat(cat, Nobj, patch_centers=None):\n",
    "    \n",
    "    ra_min = np.min(cat.ra)\n",
    "    ra_max = np.max(cat.ra)\n",
    "    dec_min = np.min(cat.dec)\n",
    "    dec_max = np.max(cat.dec)\n",
    "\n",
    "    rand_ra = np.random.uniform(ra_min, ra_max, np.round(Nobj))\n",
    "    rand_sindec = np.random.uniform(np.sin(dec_min), np.sin(dec_max), np.round(Nobj))\n",
    "    rand_dec = np.arcsin(rand_sindec)\n",
    "    \n",
    "    if isinstance(patch_centers, type(None)):\n",
    "        cat_rand= treecorr.Catalog(ra=rand_ra, dec=rand_dec, ra_units='radians', dec_units='radians')\n",
    "    else:\n",
    "        cat_rand = treecorr.Catalog(ra=rand_ra, dec=rand_dec, ra_units='radians', dec_units='radians', patch_centers =patch_centers)\n",
    "        \n",
    "    return cat_rand"
   ]
  },
  {
   "cell_type": "code",
   "execution_count": 8,
   "metadata": {},
   "outputs": [],
   "source": [
    "def corr_quantities(cat_halo, cat, rand, rr, rd, bin_dict, patch_centers=None):\n",
    "    \n",
    "    cat_rand_halo =  rand_cat(cat_halo, Nobj = cat_halo.ra.size, patch_centers=patch_centers)\n",
    "    \n",
    "    ls = treecorr.NNCorrelation(**bin_dict)\n",
    "    ls.process(cat_halo, cat)\n",
    "    \n",
    "    ll = treecorr.NNCorrelation(**bin_dict)\n",
    "    ll.process(cat_halo, cat_halo)\n",
    "    \n",
    "    lr = treecorr.NNCorrelation(**bin_dict)\n",
    "    lr.process(cat_halo, rand)\n",
    "    \n",
    "    xi, varxi = ls.calculateXi(rr, lr, rd)\n",
    "    r = np.exp(ls.meanlogr)\n",
    "    sigxi = np.sqrt(varxi)\n",
    "    covxi = ls.estimate_cov(bin_dict['var_method'])\n",
    "    \n",
    "    ls_rand = treecorr.NNCorrelation(**bin_dict)\n",
    "    ls_rand.process(cat_rand_halo, cat)\n",
    "    \n",
    "    lr_rand = treecorr.NNCorrelation(**bin_dict)\n",
    "    lr_rand.process(cat_rand_halo, rand)\n",
    "    \n",
    "    xi_rand, varxi_rand = ls_rand.calculateXi(rr, lr_rand, rd)\n",
    "    r_rand = np.exp(ls_rand.meanlogr)\n",
    "    sigxi_rand = np.sqrt(varxi_rand)\n",
    "    covxi_rand = ls_rand.estimate_cov(bin_dict['var_method'])\n",
    "    \n",
    "    return r, xi, covxi, r_rand, xi_rand, covxi_rand, ls, lr, ll"
   ]
  },
  {
   "cell_type": "code",
   "execution_count": 9,
   "metadata": {},
   "outputs": [],
   "source": [
    "def corr_quantities(cat_halo, cat, rand, rr, rd,bin_dict, patch_centers=None):\n",
    "    \n",
    "    cat_rand_halo =  rand_cat(cat_halo, Nobj = cat_halo.ra.size, patch_centers=patch_centers)\n",
    "    \n",
    "    ls = treecorr.NNCorrelation(**bin_dict)\n",
    "    ls.process(cat_halo, cat)\n",
    "    \n",
    "    ll = treecorr.NNCorrelation(**bin_dict)\n",
    "    ll.process(cat_halo, cat_halo)\n",
    "    \n",
    "    lr = treecorr.NNCorrelation(**bin_dict)\n",
    "    lr.process(cat_halo, rand)\n",
    "    \n",
    "    xi, varxi = ls.calculateXi(rr, lr, rd)\n",
    "    r = np.exp(ls.meanlogr)\n",
    "    sigxi = np.sqrt(varxi)\n",
    "    covxi = ls.estimate_cov(bin_dict['var_method'])\n",
    "    \n",
    "    ls_rand = treecorr.NNCorrelation(**bin_dict)\n",
    "    ls_rand.process(cat_rand_halo, cat)\n",
    "    \n",
    "    lr_rand = treecorr.NNCorrelation(**bin_dict)\n",
    "    lr_rand.process(cat_rand_halo, rand)\n",
    "    \n",
    "    xi_rand, varxi_rand = ls_rand.calculateXi(rr, lr_rand, rd)\n",
    "    r_rand = np.exp(ls_rand.meanlogr)\n",
    "    sigxi_rand = np.sqrt(varxi_rand)\n",
    "    covxi_rand = ls_rand.estimate_cov(bin_dict['var_method'])\n",
    "    \n",
    "    return r, xi, covxi, r_rand, xi_rand, covxi_rand, ls, lr, ll"
   ]
  },
  {
   "cell_type": "code",
   "execution_count": 10,
   "metadata": {},
   "outputs": [],
   "source": [
    "#cat_rand_halo =  rand_cat(cat_halo, Nobj = cat_halo.ra.size*100, patch_centers=patch_centers)\n",
    "\n",
    "def corr_quantities_alt(cat_halo, cat, cat_rand_halo, rand, bin_dict, patch_centers=None):\n",
    "        \n",
    "    ls = treecorr.NNCorrelation(**bin_dict)\n",
    "    ls.process(cat_halo, cat)\n",
    "    \n",
    "    lrs = treecorr.NNCorrelation(**bin_dict)\n",
    "    lrs.process(cat_halo, rand)\n",
    "    \n",
    "    srl =  treecorr.NNCorrelation(**bin_dict)\n",
    "    srl.process(cat, cat_rand_halo)\n",
    "    \n",
    "    rlrs = treecorr.NNCorrelation(**bin_dict)\n",
    "    rlrs.process(cat_rand_halo, rand)\n",
    "        \n",
    "    xi, varxi = ls.calculateXi(rlrs, lrs, srl)\n",
    "    r = np.exp(ls.meanlogr)\n",
    "    sigxi = np.sqrt(varxi)\n",
    "    covxi = ls.estimate_cov(bin_dict['var_method'])\n",
    "\n",
    "    ll = treecorr.NNCorrelation(**bin_dict)\n",
    "    ll.process(cat_halo, cat_halo)\n",
    "    \n",
    "    return r, xi, covxi, ls, lrs, srl, rlrs, ll"
   ]
  },
  {
   "cell_type": "code",
   "execution_count": 11,
   "metadata": {},
   "outputs": [],
   "source": [
    "def corr_plot(r, xi, sigxi, r_rand, xi_rand, sigxi_rand, fig=None, ax=None, corr=False):\n",
    "    if fig==None:\n",
    "        fig, ax = plt.subplots(1,1)\n",
    "    \n",
    "    if corr==True:\n",
    "        sigxi = np.sqrt(np.diag(sigxi))\n",
    "        sigxi_rand = np.sqrt(np.diag(sigxi_rand))\n",
    "    \n",
    "    ax.errorbar(r, xi, yerr= sigxi, color='red', fmt='.')\n",
    "    ax.fill_between(r_rand, y1= xi_rand - sigxi_rand, y2 = xi_rand + sigxi_rand, color='grey',alpha=0.5)\n",
    "    ax.grid()\n",
    "    ax.set_xscale('log')\n",
    "    ax.set_xlabel(r'$\\theta$ (arcmin)')\n",
    "    ax.set_ylabel(r'$\\delta_{\\mu}$')\n",
    "    return fig, ax"
   ]
  },
  {
   "cell_type": "code",
   "execution_count": null,
   "metadata": {},
   "outputs": [],
   "source": []
  },
  {
   "cell_type": "markdown",
   "metadata": {},
   "source": [
    "## Open halo catalog and define binning"
   ]
  },
  {
   "cell_type": "code",
   "execution_count": 12,
   "metadata": {},
   "outputs": [],
   "source": [
    "halo_cat =  pd.read_hdf('cat_halos.h5')"
   ]
  },
  {
   "cell_type": "code",
   "execution_count": 13,
   "metadata": {},
   "outputs": [],
   "source": [
    "zbins = np.array(([0.2,0.4],[0.4,0.6],[0.6,0.8],[0.8,1.0], [1.0, 1.2]))"
   ]
  },
  {
   "cell_type": "code",
   "execution_count": 14,
   "metadata": {},
   "outputs": [],
   "source": [
    "mbins = np.array(([20,30],[30,45],[45,70],[70,120],[120,220]))*(1e14/45)"
   ]
  },
  {
   "cell_type": "code",
   "execution_count": 15,
   "metadata": {},
   "outputs": [],
   "source": [
    "bin_sel = np.zeros((zbins.shape[0], mbins.shape[0]), dtype=object)\n",
    "for i in np.arange(zbins.shape[0]):\n",
    "    for j in np.arange(mbins.shape[0]):\n",
    "        bin_sel[i,j] = (halo_cat['redshift']> zbins[i][0]) & (halo_cat['redshift']< zbins[i][1]) & (halo_cat['halo_mass']> mbins[j][0]) & (halo_cat['halo_mass']< mbins[j][1])"
   ]
  },
  {
   "cell_type": "code",
   "execution_count": 16,
   "metadata": {},
   "outputs": [],
   "source": [
    "wide_selection =  (halo_cat['redshift']> zbins.min()) & (halo_cat['redshift']< zbins.max()) & (halo_cat['halo_mass']> mbins.min()) & (halo_cat['halo_mass']< mbins.max())"
   ]
  },
  {
   "cell_type": "code",
   "execution_count": 17,
   "metadata": {},
   "outputs": [],
   "source": [
    "# Create list for all the error patches\n",
    "binboxes = []\n",
    "\n",
    "# Loop over data points; create box from errors at each point\n",
    "for i in np.arange(zbins.shape[0]):\n",
    "    for j in np.arange(mbins.shape[0]):\n",
    "        rect = matplotlib.patches.Rectangle((zbins[i][0], mbins[j][0]), zbins[i][1] - zbins[i][0], mbins[j][1]-mbins[j][0])\n",
    "        binboxes.append(rect)\n",
    "\n",
    "    # Create patch collection with specified colour/alpha\n",
    "pc = matplotlib.collections.PatchCollection(binboxes, linewidth=3,edgecolor='r',facecolor='none')\n"
   ]
  },
  {
   "cell_type": "code",
   "execution_count": 18,
   "metadata": {},
   "outputs": [
    {
     "data": {
      "image/png": "[encoded data removed]",
      "text/plain": [
       "<Figure size 432x288 with 1 Axes>"
      ]
     },
     "metadata": {
      "needs_background": "light"
     },
     "output_type": "display_data"
    }
   ],
   "source": [
    "plt.scatter(halo_cat['redshift'], halo_cat['halo_mass'], s=0.1)\n",
    "plt.yscale('log')\n",
    "\n",
    "\n",
    "plt.xlabel('redshift')\n",
    "plt.ylabel('halo mass')\n",
    "\n",
    "plt.gca().add_collection(pc)\n",
    "plt.grid()"
   ]
  },
  {
   "cell_type": "markdown",
   "metadata": {},
   "source": [
    "## Open source catalog "
   ]
  },
  {
   "cell_type": "code",
   "execution_count": 19,
   "metadata": {},
   "outputs": [],
   "source": [
    "key = 'LBGp'\n",
    "\n",
    "gal_cat =  pd.read_hdf('cat_'+key+'.h5', key=key)\n",
    "dat = np.load(\"source_sample_properties.npy\", allow_pickle=True)\n",
    "mag_cut, alpha_cut, mag_null = dat[np.where(dat[:,0]==key)][0][1:]"
   ]
  },
  {
   "cell_type": "markdown",
   "metadata": {},
   "source": [
    "## Selection of squared region "
   ]
  },
  {
   "cell_type": "code",
   "execution_count": 20,
   "metadata": {},
   "outputs": [
    {
     "name": "stdout",
     "output_type": "stream",
     "text": [
      "selected area = 415.7999999999999 deg2\n"
     ]
    }
   ],
   "source": [
    "#DC2 full\n",
    "\n",
    "selection_halo = ( halo_cat['ra']>50) & ( halo_cat['ra']<73.1) & ( halo_cat['dec']<-27.) & ( halo_cat['dec']>-45.)\n",
    "selection_source = ( gal_cat['ra']>50) & ( gal_cat['ra']<73.1) & ( gal_cat['dec']<-27.) & ( gal_cat['dec']>-45.)\n",
    "\n",
    "area_eq = (73.1 - 50)*(-27 - -45.)\n",
    "\n",
    "print(\"selected area =\" , area_eq, \"deg2\")"
   ]
  },
  {
   "cell_type": "markdown",
   "metadata": {},
   "source": [
    "## Creation of source catalogs"
   ]
  },
  {
   "cell_type": "code",
   "execution_count": 21,
   "metadata": {},
   "outputs": [
    {
     "name": "stderr",
     "output_type": "stream",
     "text": [
      "/pbs/throng/lsst/software/desc/common/miniconda/py3.7-4.7.12.1-v2/envs/desc/lib/python3.7/site-packages/pandas/core/computation/expressions.py:178: UserWarning: evaluating in Python space because the '*' operator is not supported by numexpr for the bool dtype, use '&' instead\n",
      "  f\"evaluating in Python space because the {repr(op_str)} \"\n"
     ]
    }
   ],
   "source": [
    "Np = 30\n",
    "selection = selection_source * (gal_cat['mag_i_lsst']<mag_cut) * (gal_cat['redshift']>1.5)\n",
    "cat = treecorr.Catalog(ra = gal_cat['ra'][selection], dec = gal_cat['dec'][selection], ra_units='deg', dec_units='deg')#, npatch=Np)"
   ]
  },
  {
   "cell_type": "markdown",
   "metadata": {},
   "source": [
    "## Create random source catalog with same area"
   ]
  },
  {
   "cell_type": "code",
   "execution_count": 22,
   "metadata": {},
   "outputs": [],
   "source": [
    "Ntimes = 1\n",
    "rand = rand_cat(cat, Nobj = cat.ra.size * Ntimes,  patch_centers=None)"
   ]
  },
  {
   "cell_type": "markdown",
   "metadata": {},
   "source": [
    "## Compute count-count correlation functions on the source catalogs"
   ]
  },
  {
   "cell_type": "markdown",
   "metadata": {},
   "source": [
    "### bin definiton"
   ]
  },
  {
   "cell_type": "code",
   "execution_count": 23,
   "metadata": {},
   "outputs": [],
   "source": [
    "bin_dict={'min_sep':0.1, 'max_sep':20, 'sep_units':'arcmin','bin_type':'Log','nbins':10, 'var_method':'shot'}"
   ]
  },
  {
   "cell_type": "code",
   "execution_count": 24,
   "metadata": {},
   "outputs": [],
   "source": [
    "ss = treecorr.NNCorrelation(**bin_dict)\n",
    "ss.process(cat)"
   ]
  },
  {
   "cell_type": "code",
   "execution_count": 25,
   "metadata": {},
   "outputs": [],
   "source": [
    "rr = treecorr.NNCorrelation(**bin_dict)\n",
    "rr.process(rand)"
   ]
  },
  {
   "cell_type": "code",
   "execution_count": 26,
   "metadata": {},
   "outputs": [],
   "source": [
    "sr = treecorr.NNCorrelation(**bin_dict)\n",
    "sr.process(cat, rand)"
   ]
  },
  {
   "cell_type": "code",
   "execution_count": 27,
   "metadata": {},
   "outputs": [],
   "source": [
    "xi, varxi = ss.calculateXi(rr, sr)\n",
    "r = np.exp(ss.meanlogr)\n",
    "sig = np.sqrt(varxi)"
   ]
  },
  {
   "cell_type": "code",
   "execution_count": 28,
   "metadata": {},
   "outputs": [
    {
     "data": {
      "text/plain": [
       "(array([0.059305  , 0.03473015, 0.02052901, 0.01207536, 0.00713359,\n",
       "        0.00419489, 0.0024674 , 0.00145314, 0.0008573 , 0.00050654]),\n",
       " array([0.059305  , 0.03473015, 0.02052901, 0.01207536, 0.00713359,\n",
       "        0.00419489, 0.0024674 , 0.00145314, 0.0008573 , 0.00050654]))"
      ]
     },
     "execution_count": 28,
     "metadata": {},
     "output_type": "execute_result"
    }
   ],
   "source": [
    "sig , np.sqrt(np.diag(ss.estimate_cov(bin_dict['var_method'])))"
   ]
  },
  {
   "cell_type": "code",
   "execution_count": 29,
   "metadata": {},
   "outputs": [
    {
     "data": {
      "text/plain": [
       "<matplotlib.colorbar.Colorbar at 0x7fe85cd52b10>"
      ]
     },
     "execution_count": 29,
     "metadata": {},
     "output_type": "execute_result"
    },
    {
     "data": {
      "image/png": "[encoded data removed]",
      "text/plain": [
       "<Figure size 432x288 with 2 Axes>"
      ]
     },
     "metadata": {
      "needs_background": "light"
     },
     "output_type": "display_data"
    }
   ],
   "source": [
    "plt.imshow((ss.estimate_cov(bin_dict['var_method'])),origin=\"lower\")\n",
    "plt.colorbar()"
   ]
  },
  {
   "cell_type": "raw",
   "metadata": {},
   "source": [
    "xi_ll, varxi_ll = ll.calculateXi(rr, lr)\n",
    "r_ll = np.exp(ll.meanlogr)\n",
    "sig_ll = np.sqrt(varxi)"
   ]
  },
  {
   "cell_type": "code",
   "execution_count": 30,
   "metadata": {},
   "outputs": [
    {
     "data": {
      "text/plain": [
       "<matplotlib.legend.Legend at 0x7fe85f762d10>"
      ]
     },
     "execution_count": 30,
     "metadata": {},
     "output_type": "execute_result"
    },
    {
     "data": {
      "image/png": "[encoded data removed]",
      "text/plain": [
       "<Figure size 432x288 with 1 Axes>"
      ]
     },
     "metadata": {
      "needs_background": "light"
     },
     "output_type": "display_data"
    }
   ],
   "source": [
    "plt.errorbar(r, xi, yerr=sig, color='blue', lw=1, label='max snr')\n",
    "#plt.errorbar(r_null, xi_null, yerr=sig_null, color='green', lw=1, label='null test')\n",
    "\n",
    "plt.xscale('log')\n",
    "#plt.yscale('log', nonposy='clip')\n",
    "plt.xlabel(r'$\\theta$ (arcmin)')\n",
    "plt.ylabel(r'$w(\\theta)$')\n",
    "\n",
    "plt.legend()\n"
   ]
  },
  {
   "cell_type": "markdown",
   "metadata": {},
   "source": [
    "## Create lens catalog"
   ]
  },
  {
   "cell_type": "code",
   "execution_count": 24,
   "metadata": {},
   "outputs": [
    {
     "name": "stdout",
     "output_type": "stream",
     "text": [
      "<z> = 0.7332933430025187 , <halo_mass> = 0.8628683058448181\n"
     ]
    }
   ],
   "source": [
    "selection_lens = selection_halo &  wide_selection\n",
    "redshift_mean, halo_mass_mean = halo_cat['redshift'][selection_lens].mean(), halo_cat['halo_mass'][selection_lens].mean()\n",
    "print(\"<z> =\", redshift_mean , \", <halo_mass> =\", halo_mass_mean/1e14 )\n",
    "\n",
    "cat_lens = treecorr.Catalog(ra = halo_cat['ra'][selection_halo], dec = halo_cat['dec'][selection_halo], ra_units='deg', dec_units='deg')#, patch_centers=cat.patch_centers)"
   ]
  },
  {
   "cell_type": "code",
   "execution_count": 25,
   "metadata": {},
   "outputs": [],
   "source": [
    "cat_rand_halo =  rand_cat(cat_lens, Nobj = cat_lens.ra.size*100, patch_centers=cat.patch_centers)"
   ]
  },
  {
   "cell_type": "markdown",
   "metadata": {},
   "source": [
    "## Compute count-count correlation functions between lens catalog and source catalogs"
   ]
  },
  {
   "cell_type": "markdown",
   "metadata": {},
   "source": [
    "# $w = \\frac{LS - LR - SR +RR}{RR} $ \n",
    "\n",
    " see eq.6 in https://arxiv.org/pdf/1111.3698.pdf"
   ]
  },
  {
   "cell_type": "markdown",
   "metadata": {},
   "source": [
    "## Test radius in Mpc"
   ]
  },
  {
   "cell_type": "code",
   "execution_count": null,
   "metadata": {},
   "outputs": [],
   "source": [
    "rmin_Mpc, rmax_Mpc = 0.2, 8. #u.Mpc\n",
    "\n",
    "#for z in XXX\n",
    "redshift_mean = halo_cat['redshift'][selection_lens].mean()\n",
    "conv = cosmo.arcsec_per_kpc_proper(redshift_mean).to(u.arcmin/u.Mpc)\n",
    "rmin, rmax = conv.value * rmin_Mpc, conv.value * rmax_Mpc\n",
    "bin_dict={'min_sep':rmin, 'max_sep':rmax, 'sep_units':'arcmin','bin_type':'Log','nbins':10, 'var_method':'shot'}\n",
    "\n",
    "ralt, xialt, covxialt, ls, lrs, srl, rlrs, ll = corr_quantities_alt(cat_lens, cat, cat_rand_halo, rand, bin_dict, patch_centers=None)"
   ]
  },
  {
   "cell_type": "markdown",
   "metadata": {},
   "source": [
    "## All halos"
   ]
  },
  {
   "cell_type": "code",
   "execution_count": 33,
   "metadata": {},
   "outputs": [],
   "source": [
    "r, xi, covxi, r_rand, xi_rand, covxi_rand,  ls, lr, ll = corr_quantities(cat_lens, cat, rand, rr, rd=sr, bin_dict=bin_dict, patch_centers=cat.patch_centers)\n",
    "\n",
    "sigxi = np.sqrt(np.diag(covxi))\n",
    "sigxi_rand = np.sqrt(np.diag(covxi_rand))"
   ]
  },
  {
   "cell_type": "code",
   "execution_count": null,
   "metadata": {},
   "outputs": [],
   "source": [
    "cat_rand_halo =  rand_cat(cat_lens, Nobj = cat_lens.ra.size*100, patch_centers=cat.patch_centers)"
   ]
  },
  {
   "cell_type": "code",
   "execution_count": null,
   "metadata": {},
   "outputs": [],
   "source": [
    "ralt, xialt, covxialt, ls, lrs, srl, rlrs, ll = corr_quantities_alt(cat_lens, cat, cat_rand_halo, rand, bin_dict, patch_centers=None)"
   ]
  },
  {
   "cell_type": "code",
   "execution_count": null,
   "metadata": {},
   "outputs": [],
   "source": [
    "def Mpc_to_arcmin(x_Mpc, z=redshift_mean, cosmo=cosmo):\n",
    "    return x_Mpc * cosmo.arcsec_per_kpc_proper(z).to(u.arcmin/u.Mpc).value\n",
    "\n",
    "def arcmin_to_Mpc(x_arc, z=redshift_mean, cosmo=cosmo):\n",
    "    return x_arc * cosmo.kpc_proper_per_arcmin(z).to(u.Mpc/u.arcmin).value "
   ]
  },
  {
   "cell_type": "code",
   "execution_count": null,
   "metadata": {},
   "outputs": [],
   "source": [
    "fig, ax =  corr_plot(r, xi, sigxi, r_rand, xi_rand, sigxi_rand)\n",
    "\n",
    "ax.plot(ralt, xialt,'x')\n",
    "ax.axvline(1*healpy.nside2resol(4096, arcmin = True), linestyle=\"dashed\")\n",
    "\n",
    "secax = ax.secondary_xaxis('top', functions=( arcmin_to_Mpc, Mpc_to_arcmin))\n",
    "secax.set_xlabel('$\\\\theta$ [Mpc]')\n",
    "\n",
    "r200 = scaled_radius(200, halo_mass_mean, redshift_mean, cosmo)\n",
    "ax.axvline(Mpc_to_arcmin(r200))\n",
    "\n",
    "#ax.errorbar(r_null*1.05, xi_null, yerr= sigxi_null, color='green', fmt='.')\n",
    "\n",
    "ax.text(0.60, 0.80, \"<z>=\"+str(round(redshift_mean,2)), transform=ax.transAxes)\n",
    "ax.text(0.60, 0.90, \"<M/1e14>=\"+str(round(halo_mass_mean/1e14,2)), transform=ax.transAxes);"
   ]
  },
  {
   "cell_type": "code",
   "execution_count": null,
   "metadata": {},
   "outputs": [],
   "source": [
    "fig, ax =  corr_plot(ralt, xialt, covxialt, r_rand, xi_rand, covxi_rand, corr=True)\n",
    "\n",
    "ax.axvline(1*healpy.nside2resol(4096, arcmin = True), linestyle=\"dashed\")\n",
    "\n",
    "secax = ax.secondary_xaxis('top', functions=( arcmin_to_Mpc, Mpc_to_arcmin))\n",
    "secax.set_xlabel('$\\\\theta$ [Mpc]')\n",
    "\n",
    "r200 = scaled_radius(200, halo_mass_mean, redshift_mean, cosmo)\n",
    "ax.axvline(Mpc_to_arcmin(r200))\n",
    "\n",
    "#ax.errorbar(r_null*1.05, xi_null, yerr= sigxi_null, color='green', fmt='.')\n",
    "\n",
    "ax.text(0.60, 0.80, \"<z>=\"+str(round(redshift_mean,2)), transform=ax.transAxes)\n",
    "ax.text(0.60, 0.90, \"<M/1e14>=\"+str(round(halo_mass_mean/1e14,2)), transform=ax.transAxes);"
   ]
  },
  {
   "cell_type": "markdown",
   "metadata": {},
   "source": [
    "## Halos in bins of mass / redshift"
   ]
  },
  {
   "cell_type": "code",
   "execution_count": 65,
   "metadata": {},
   "outputs": [],
   "source": [
    "cat_lens = np.empty(bin_sel.shape,dtype=\"object\")\n",
    "quant = np.empty(bin_sel.shape,dtype=\"object\")"
   ]
  },
  {
   "cell_type": "code",
   "execution_count": 66,
   "metadata": {},
   "outputs": [
    {
     "name": "stdout",
     "output_type": "stream",
     "text": [
      "<z> = 0.31607957121219615 , <halo_mass> = 0.5368857375264066 N halo : 1142.0\n",
      "<z> = 0.3193251974855981 , <halo_mass> = 0.8133363015008079 N halo : 680.0\n",
      "<z> = 0.31859911243476347 , <halo_mass> = 1.2290713730737977 N halo : 438.0\n",
      "<z> = 0.31201738935428847 , <halo_mass> = 1.990148361541866 N halo : 276.0\n",
      "<z> = 0.30636433916416933 , <halo_mass> = 3.4703486882370127 N halo : 94.0\n",
      "<z> = 0.5070116731368426 , <halo_mass> = 0.5364438977685024 N halo : 2158.0\n",
      "<z> = 0.5041544726167566 , <halo_mass> = 0.8049418632468558 N halo : 1209.0\n",
      "<z> = 0.5052947231675606 , <halo_mass> = 1.2244338352108959 N halo : 721.0\n",
      "<z> = 0.49866910301128553 , <halo_mass> = 1.9805446438714207 N halo : 385.0\n",
      "<z> = 0.5015671201808094 , <halo_mass> = 3.408980431642998 N halo : 123.0\n",
      "<z> = 0.7036227659130946 , <halo_mass> = 0.5368071913489416 N halo : 2650.0\n",
      "<z> = 0.7030529533274065 , <halo_mass> = 0.8040822110139881 N halo : 1557.0\n",
      "<z> = 0.7014148496273797 , <halo_mass> = 1.2237976712404177 N halo : 804.0\n",
      "<z> = 0.6964705617886618 , <halo_mass> = 1.9423011969543538 N halo : 356.0\n",
      "<z> = 0.7012306972953244 , <halo_mass> = 3.3713024522018857 N halo : 120.0\n",
      "<z> = 0.8977788931853959 , <halo_mass> = 0.5334120461284922 N halo : 2708.0\n",
      "<z> = 0.895348755289642 , <halo_mass> = 0.8033161819643052 N halo : 1441.0\n",
      "<z> = 0.8930383511596691 , <halo_mass> = 1.2172593504427696 N halo : 713.0\n",
      "<z> = 0.8931645527795864 , <halo_mass> = 1.9442337670392518 N halo : 277.0\n",
      "<z> = 0.8856385745797654 , <halo_mass> = 3.3155184596343323 N halo : 86.0\n",
      "<z> = 1.09607115887465 , <halo_mass> = 0.5346464909307718 N halo : 2229.0\n",
      "<z> = 1.0947690875721945 , <halo_mass> = 0.8059214665057981 N halo : 1113.0\n",
      "<z> = 1.0928638175813894 , <halo_mass> = 1.212772623707795 N halo : 497.0\n",
      "<z> = 1.0895209425723802 , <halo_mass> = 1.9516350741727124 N halo : 170.0\n",
      "<z> = 1.0877528809131682 , <halo_mass> = 3.4503146837212455 N halo : 35.0\n"
     ]
    }
   ],
   "source": [
    "z_cl = np.zeros((5,5))\n",
    "mass_cl = np.zeros((5,5))\n",
    "n_halo = np.zeros((5,5))\n",
    "\n",
    "for i in np.arange(zbins.shape[0]):\n",
    "    for j in np.arange(mbins.shape[0]):\n",
    "        \n",
    "        selection_lens = selection_halo * bin_sel[i,j]\n",
    "        z_cl[i,j], mass_cl[i,j] = halo_cat['redshift'][selection_lens].mean(), halo_cat['halo_mass'][selection_lens].mean()\n",
    "        n_halo[i,j] = halo_cat['redshift'][selection_lens].size\n",
    "        print(\"<z> =\", z_cl[i,j] , \", <halo_mass> =\", mass_cl[i,j]/1e14, \"N halo :\", n_halo[i,j])\n",
    "\n",
    "        cat_lens[i,j] = treecorr.Catalog(ra = halo_cat['ra'][selection_lens], dec = halo_cat['dec'][selection_lens], ra_units='deg', dec_units='deg',patch_centers=cat.patch_centers)\n",
    "        quant[i,j] = corr_quantities(cat_lens[i,j], cat, rand, rr, rd=sr, bin_dict=bin_dict, patch_centers=cat.patch_centers)"
   ]
  },
  {
   "cell_type": "code",
   "execution_count": 67,
   "metadata": {},
   "outputs": [
    {
     "data": {
      "image/png": "[encoded data removed]",
      "text/plain": [
       "<Figure size 864x648 with 18 Axes>"
      ]
     },
     "metadata": {
      "needs_background": "light"
     },
     "output_type": "display_data"
    }
   ],
   "source": [
    "\n",
    "fig, axes = plt.subplots( 3,3, figsize=[12,9], sharex=True)\n",
    "for i,h in zip([0,2,4],range(3)):\n",
    "    for j,k in zip([0,2,4],range(3)):\n",
    "        def func_Mpc_to_arcmin(x_Mpc):\n",
    "            return Mpc_to_arcmin(x_Mpc, z=z_cl[i,j], cosmo=cosmo)\n",
    "        \n",
    "        def func_arcmin_to_Mpc(x_arc):\n",
    "            return arcmin_to_Mpc(x_arc, z=z_cl[i,j], cosmo=cosmo)\n",
    "        \n",
    "        f, ax =  corr_plot(*quant[i,j], fig=fig, ax=axes[3-1-k,h], corr=True)\n",
    "\n",
    "        #ax.axvline(1*healpy.nside2resol(4096, arcmin = True), linestyle=\"dashed\")\n",
    "        \n",
    "        ax.set_xlim(0.1,10)\n",
    "        \n",
    "        ax2 = ax.twiny()\n",
    "        ax2.set_xlabel('$\\\\theta$ [Mpc]')\n",
    "        ax2.set_xscale('log')\n",
    "        ax2.set_xlim(arcmin_to_Mpc(0.1,z=z_cl[i,j], cosmo=cosmo),arcmin_to_Mpc(10.,z=z_cl[i,j], cosmo=cosmo))\n",
    "        \n",
    "        #secax = ax.secondary_xaxis('top', functions=(func_arcmin_to_Mpc, func_Mpc_to_arcmin))\n",
    "        #secax.set_xlabel('$\\\\theta$ [Mpc]')\n",
    "\n",
    "        r200 = scaled_radius(200, mass_cl[i,j], z_cl[i,j], cosmo)\n",
    "        ax.axvline(Mpc_to_arcmin(r200, z=z_cl[i,j], cosmo=cosmo))\n",
    "\n",
    "        ax.text(0.55, 0.80, \"<z>=\"+str(round(z_cl[i,j],2)), transform=ax.transAxes, fontsize='x-small')\n",
    "        ax.text(0.55, 0.90, \"<M/1e14>=\"+str(round(mass_cl[i,j]/1e14,2)), transform=ax.transAxes, fontsize='x-small');\n",
    "        \n",
    "        #ax.axvspan(func_Mpc_to_arcmin(0.2), func_Mpc_to_arcmin(3.5), color='green', alpha=0.1, lw=0)\n",
    "        \n",
    "        \n",
    "plt.tight_layout()\n",
    "\n",
    "for i in range(axes.shape[0]):\n",
    "    axes[2,i].set_ylim(-0.5,1)\n",
    "    axes[1,i].set_ylim(-1,2)\n",
    "    axes[0,i].set_ylim(-3,6)\n",
    "    for j in range(axes.shape[1]):\n",
    "        axes[i,j].set_xlim(0.1,10)"
   ]
  },
  {
   "cell_type": "code",
   "execution_count": 110,
   "metadata": {},
   "outputs": [],
   "source": [
    "np.save('binned_correleation_fct_'+key, quant)"
   ]
  },
  {
   "cell_type": "code",
   "execution_count": 111,
   "metadata": {},
   "outputs": [],
   "source": [
    "np.save(\"halo_bin_properties\", [z_cl, mass_cl,n_halo])"
   ]
  },
  {
   "cell_type": "markdown",
   "metadata": {},
   "source": [
    "# Annexe "
   ]
  },
  {
   "cell_type": "code",
   "execution_count": 73,
   "metadata": {},
   "outputs": [],
   "source": [
    "# correlation fct for individual clusters \n",
    "\n",
    "xi1 = 0\n",
    "sigxi1 = 0\n",
    "xi_rand1 = 0\n",
    "sigxi_rand1 = 0\n",
    "\n",
    "\n",
    "for k in range(halo_cat['ra'][selection_halo* bin_sel[0,0]].size):\n",
    "    cat_lens = treecorr.Catalog(ra = np.reshape(halo_cat['ra'][selection_halo*bin_sel[0,0]].iloc[k], -1), dec = np.reshape(halo_cat['dec'][selection_halo*bin_sel[0,0]].iloc[k],-1), ra_units='deg', dec_units='deg')\n",
    "    r1, xi01, sigxi01, r_rand1, xi0_rand1, sigxi0_rand1 = corr_quantities(cat_lens, cat, rand, rr, rd=sr, bin_dict=bin_dict);\n",
    "    xi1 = xi1 + xi01\n",
    "    varxi1 = sigxi1**2 + sigxi01**2\n",
    "    xi_rand1 = xi_rand1 + xi0_rand1\n",
    "    varxi_rand1 = sigxi_rand1**2 + sigxi0_rand1**2"
   ]
  },
  {
   "cell_type": "code",
   "execution_count": 83,
   "metadata": {},
   "outputs": [
    {
     "data": {
      "image/png": "[encoded data removed]",
      "text/plain": [
       "<Figure size 432x288 with 1 Axes>"
      ]
     },
     "metadata": {
      "needs_background": "light"
     },
     "output_type": "display_data"
    }
   ],
   "source": [
    "# correlation fct for individual clusters \n",
    "\n",
    "\n",
    "N = (halo_cat['ra'][selection_halo*bin_sel[0,0]].size)\n",
    "\n",
    "yerr=np.sqrt(np.diag(varxi1)/N**(3/2.))\n",
    "#yerr=np.zeros(10)\n",
    "\n",
    "\n",
    "fig, ax =  corr_plot(r, xi1/N, yerr, r_rand1, xi_rand1/N, np.sqrt(np.diag(varxi_rand1))/N)\n",
    "\n",
    "ax.errorbar(quant[0,0][0]*0.95, quant[0,0][1], yerr=np.sqrt(np.diag(quant[0,0][2])), fmt='')\n",
    "\n",
    "ax.axvline(1*healpy.nside2resol(4096, arcmin = True), linestyle=\"dashed\")\n",
    "\n",
    "secax = ax.secondary_xaxis('top', functions=( arcmin_to_Mpc, Mpc_to_arcmin))\n",
    "secax.set_xlabel('$\\\\theta$ [Mpc]')\n",
    "\n",
    "r200 = scaled_radius(200, halo_mass_mean, redshift_mean, cosmo)\n",
    "ax.axvline(Mpc_to_arcmin(r200))\n",
    "\n",
    "#ax.errorbar(r_null*1.05, xi_null, yerr= sigxi_null, color='green', fmt='.')\n",
    "\n",
    "ax.text(0.60, 0.80, \"<z>=\"+str(round(redshift_mean,2)), transform=ax.transAxes)\n",
    "ax.text(0.60, 0.90, \"<M/1e14>=\"+str(round(halo_mass_mean/1e14,2)), transform=ax.transAxes);\n"
   ]
  },
  {
   "cell_type": "code",
   "execution_count": 40,
   "metadata": {},
   "outputs": [],
   "source": [
    "# correlation fct for individual clusters \n",
    "\n",
    "xi1 = 0\n",
    "sigxi1 = 0\n",
    "xi_rand1 = 0\n",
    "sigxi_rand1 = 0\n",
    "\n",
    "\n",
    "for k in range(halo_cat['ra'][selection_halo* wide_selection].size):\n",
    "    cat_lens = treecorr.Catalog(ra = np.reshape(halo_cat['ra'][selection_halo*wide_selection].iloc[k], -1), dec = np.reshape(halo_cat['dec'][selection_halo*wide_selection].iloc[k],-1), ra_units='deg', dec_units='deg')\n",
    "    r1, xi01, sigxi01, r_rand1, xi0_rand1, sigxi0_rand1, ls1, lr1, ll1 = corr_quantities(cat_lens, cat, rand, rr, rd=sr, bin_dict=bin_dict);\n",
    "    xi1 = xi1 + xi01\n",
    "    varxi1 = sigxi1**2 + sigxi01**2\n",
    "    xi_rand1 = xi_rand1 + xi0_rand1\n",
    "    varxi_rand1 = sigxi_rand1**2 + sigxi0_rand1**2"
   ]
  },
  {
   "cell_type": "code",
   "execution_count": 75,
   "metadata": {},
   "outputs": [
    {
     "ename": "KeyboardInterrupt",
     "evalue": "",
     "output_type": "error",
     "traceback": [
      "\u001b[0;31m\u001b[0m",
      "\u001b[0;31mKeyboardInterrupt\u001b[0mTraceback (most recent call last)",
      "\u001b[0;32m<ipython-input-75-c08831463e7a>\u001b[0m in \u001b[0;36m<module>\u001b[0;34m\u001b[0m\n\u001b[1;32m      9\u001b[0m \u001b[0;32mfor\u001b[0m \u001b[0mk\u001b[0m \u001b[0;32min\u001b[0m \u001b[0mrange\u001b[0m\u001b[0;34m(\u001b[0m\u001b[0mhalo_cat\u001b[0m\u001b[0;34m[\u001b[0m\u001b[0;34m'ra'\u001b[0m\u001b[0;34m]\u001b[0m\u001b[0;34m[\u001b[0m\u001b[0mselection_halo\u001b[0m\u001b[0;34m*\u001b[0m \u001b[0mwide_selection\u001b[0m\u001b[0;34m]\u001b[0m\u001b[0;34m.\u001b[0m\u001b[0msize\u001b[0m\u001b[0;34m)\u001b[0m\u001b[0;34m:\u001b[0m\u001b[0;34m\u001b[0m\u001b[0;34m\u001b[0m\u001b[0m\n\u001b[1;32m     10\u001b[0m     \u001b[0mcat_lens\u001b[0m \u001b[0;34m=\u001b[0m \u001b[0mtreecorr\u001b[0m\u001b[0;34m.\u001b[0m\u001b[0mCatalog\u001b[0m\u001b[0;34m(\u001b[0m\u001b[0mra\u001b[0m \u001b[0;34m=\u001b[0m \u001b[0mnp\u001b[0m\u001b[0;34m.\u001b[0m\u001b[0mreshape\u001b[0m\u001b[0;34m(\u001b[0m\u001b[0mhalo_cat\u001b[0m\u001b[0;34m[\u001b[0m\u001b[0;34m'ra'\u001b[0m\u001b[0;34m]\u001b[0m\u001b[0;34m[\u001b[0m\u001b[0mselection_halo\u001b[0m\u001b[0;34m*\u001b[0m\u001b[0mwide_selection\u001b[0m\u001b[0;34m]\u001b[0m\u001b[0;34m.\u001b[0m\u001b[0miloc\u001b[0m\u001b[0;34m[\u001b[0m\u001b[0mk\u001b[0m\u001b[0;34m]\u001b[0m\u001b[0;34m,\u001b[0m \u001b[0;34m-\u001b[0m\u001b[0;36m1\u001b[0m\u001b[0;34m)\u001b[0m\u001b[0;34m,\u001b[0m \u001b[0mdec\u001b[0m \u001b[0;34m=\u001b[0m \u001b[0mnp\u001b[0m\u001b[0;34m.\u001b[0m\u001b[0mreshape\u001b[0m\u001b[0;34m(\u001b[0m\u001b[0mhalo_cat\u001b[0m\u001b[0;34m[\u001b[0m\u001b[0;34m'dec'\u001b[0m\u001b[0;34m]\u001b[0m\u001b[0;34m[\u001b[0m\u001b[0mselection_halo\u001b[0m\u001b[0;34m*\u001b[0m\u001b[0mwide_selection\u001b[0m\u001b[0;34m]\u001b[0m\u001b[0;34m.\u001b[0m\u001b[0miloc\u001b[0m\u001b[0;34m[\u001b[0m\u001b[0mk\u001b[0m\u001b[0;34m]\u001b[0m\u001b[0;34m,\u001b[0m\u001b[0;34m-\u001b[0m\u001b[0;36m1\u001b[0m\u001b[0;34m)\u001b[0m\u001b[0;34m,\u001b[0m \u001b[0mra_units\u001b[0m\u001b[0;34m=\u001b[0m\u001b[0;34m'deg'\u001b[0m\u001b[0;34m,\u001b[0m \u001b[0mdec_units\u001b[0m\u001b[0;34m=\u001b[0m\u001b[0;34m'deg'\u001b[0m\u001b[0;34m)\u001b[0m\u001b[0;34m\u001b[0m\u001b[0;34m\u001b[0m\u001b[0m\n\u001b[0;32m---> 11\u001b[0;31m     \u001b[0mr\u001b[0m\u001b[0;34m,\u001b[0m \u001b[0mxi\u001b[0m\u001b[0;34m,\u001b[0m \u001b[0mcovxi\u001b[0m\u001b[0;34m,\u001b[0m \u001b[0mls\u001b[0m\u001b[0;34m,\u001b[0m \u001b[0mlrs\u001b[0m\u001b[0;34m,\u001b[0m \u001b[0msrl\u001b[0m\u001b[0;34m,\u001b[0m \u001b[0mrlrs\u001b[0m\u001b[0;34m,\u001b[0m \u001b[0mll\u001b[0m \u001b[0;34m=\u001b[0m \u001b[0mcorr_quantities_alt\u001b[0m\u001b[0;34m(\u001b[0m\u001b[0mcat_lens\u001b[0m\u001b[0;34m,\u001b[0m \u001b[0mcat\u001b[0m\u001b[0;34m,\u001b[0m \u001b[0mcat_rand_halo\u001b[0m\u001b[0;34m,\u001b[0m \u001b[0mrand\u001b[0m\u001b[0;34m,\u001b[0m \u001b[0mbin_dict\u001b[0m\u001b[0;34m=\u001b[0m\u001b[0mbin_dict\u001b[0m\u001b[0;34m)\u001b[0m\u001b[0;34m;\u001b[0m\u001b[0;34m\u001b[0m\u001b[0;34m\u001b[0m\u001b[0m\n\u001b[0m\u001b[1;32m     12\u001b[0m     \u001b[0mxi1\u001b[0m \u001b[0;34m=\u001b[0m \u001b[0mxi1\u001b[0m \u001b[0;34m+\u001b[0m \u001b[0mxi01\u001b[0m\u001b[0;34m\u001b[0m\u001b[0;34m\u001b[0m\u001b[0m\n\u001b[1;32m     13\u001b[0m     \u001b[0mvarxi1\u001b[0m \u001b[0;34m=\u001b[0m \u001b[0msigxi1\u001b[0m\u001b[0;34m**\u001b[0m\u001b[0;36m2\u001b[0m \u001b[0;34m+\u001b[0m \u001b[0msigxi01\u001b[0m\u001b[0;34m**\u001b[0m\u001b[0;36m2\u001b[0m\u001b[0;34m\u001b[0m\u001b[0;34m\u001b[0m\u001b[0m\n",
      "\u001b[0;32m<ipython-input-59-7118417ee652>\u001b[0m in \u001b[0;36mcorr_quantities_alt\u001b[0;34m(cat_halo, cat, cat_rand_halo, rand, bin_dict, patch_centers)\u001b[0m\n\u001b[1;32m     13\u001b[0m \u001b[0;34m\u001b[0m\u001b[0m\n\u001b[1;32m     14\u001b[0m     \u001b[0mrlrs\u001b[0m \u001b[0;34m=\u001b[0m \u001b[0mtreecorr\u001b[0m\u001b[0;34m.\u001b[0m\u001b[0mNNCorrelation\u001b[0m\u001b[0;34m(\u001b[0m\u001b[0;34m**\u001b[0m\u001b[0mbin_dict\u001b[0m\u001b[0;34m)\u001b[0m\u001b[0;34m\u001b[0m\u001b[0;34m\u001b[0m\u001b[0m\n\u001b[0;32m---> 15\u001b[0;31m     \u001b[0mrlrs\u001b[0m\u001b[0;34m.\u001b[0m\u001b[0mprocess\u001b[0m\u001b[0;34m(\u001b[0m\u001b[0mcat_rand_halo\u001b[0m\u001b[0;34m,\u001b[0m \u001b[0mrand\u001b[0m\u001b[0;34m)\u001b[0m\u001b[0;34m\u001b[0m\u001b[0;34m\u001b[0m\u001b[0m\n\u001b[0m\u001b[1;32m     16\u001b[0m \u001b[0;34m\u001b[0m\u001b[0m\n\u001b[1;32m     17\u001b[0m     \u001b[0mxi\u001b[0m\u001b[0;34m,\u001b[0m \u001b[0mvarxi\u001b[0m \u001b[0;34m=\u001b[0m \u001b[0mls\u001b[0m\u001b[0;34m.\u001b[0m\u001b[0mcalculateXi\u001b[0m\u001b[0;34m(\u001b[0m\u001b[0mrlrs\u001b[0m\u001b[0;34m,\u001b[0m \u001b[0mlrs\u001b[0m\u001b[0;34m,\u001b[0m \u001b[0msrl\u001b[0m\u001b[0;34m)\u001b[0m\u001b[0;34m\u001b[0m\u001b[0;34m\u001b[0m\u001b[0m\n",
      "\u001b[0;32m/pbs/throng/lsst/software/desc/common/miniconda/py3.7-4.7.12.1-v2/envs/desc/lib/python3.7/site-packages/treecorr/nncorrelation.py\u001b[0m in \u001b[0;36mprocess\u001b[0;34m(self, cat1, cat2, metric, num_threads, comm, low_mem)\u001b[0m\n\u001b[1;32m    404\u001b[0m             \u001b[0mself\u001b[0m\u001b[0;34m.\u001b[0m\u001b[0m_process_all_auto\u001b[0m\u001b[0;34m(\u001b[0m\u001b[0mcat1\u001b[0m\u001b[0;34m,\u001b[0m \u001b[0mmetric\u001b[0m\u001b[0;34m,\u001b[0m \u001b[0mnum_threads\u001b[0m\u001b[0;34m,\u001b[0m \u001b[0mcomm\u001b[0m\u001b[0;34m,\u001b[0m \u001b[0mlow_mem\u001b[0m\u001b[0;34m)\u001b[0m\u001b[0;34m\u001b[0m\u001b[0;34m\u001b[0m\u001b[0m\n\u001b[1;32m    405\u001b[0m         \u001b[0;32melse\u001b[0m\u001b[0;34m:\u001b[0m\u001b[0;34m\u001b[0m\u001b[0;34m\u001b[0m\u001b[0m\n\u001b[0;32m--> 406\u001b[0;31m             \u001b[0mself\u001b[0m\u001b[0;34m.\u001b[0m\u001b[0m_process_all_cross\u001b[0m\u001b[0;34m(\u001b[0m\u001b[0mcat1\u001b[0m\u001b[0;34m,\u001b[0m \u001b[0mcat2\u001b[0m\u001b[0;34m,\u001b[0m \u001b[0mmetric\u001b[0m\u001b[0;34m,\u001b[0m \u001b[0mnum_threads\u001b[0m\u001b[0;34m,\u001b[0m \u001b[0mcomm\u001b[0m\u001b[0;34m,\u001b[0m \u001b[0mlow_mem\u001b[0m\u001b[0;34m)\u001b[0m\u001b[0;34m\u001b[0m\u001b[0;34m\u001b[0m\u001b[0m\n\u001b[0m\u001b[1;32m    407\u001b[0m         \u001b[0mself\u001b[0m\u001b[0;34m.\u001b[0m\u001b[0mfinalize\u001b[0m\u001b[0;34m(\u001b[0m\u001b[0;34m)\u001b[0m\u001b[0;34m\u001b[0m\u001b[0;34m\u001b[0m\u001b[0m\n\u001b[1;32m    408\u001b[0m \u001b[0;34m\u001b[0m\u001b[0m\n",
      "\u001b[0;32m/pbs/throng/lsst/software/desc/common/miniconda/py3.7-4.7.12.1-v2/envs/desc/lib/python3.7/site-packages/treecorr/binnedcorr2.py\u001b[0m in \u001b[0;36m_process_all_cross\u001b[0;34m(self, cat1, cat2, metric, num_threads, comm, low_mem)\u001b[0m\n\u001b[1;32m    606\u001b[0m                 \u001b[0mself\u001b[0m\u001b[0;34m.\u001b[0m\u001b[0mprocess_pairwise\u001b[0m\u001b[0;34m(\u001b[0m\u001b[0mc1\u001b[0m\u001b[0;34m,\u001b[0m\u001b[0mc2\u001b[0m\u001b[0;34m,\u001b[0m\u001b[0mmetric\u001b[0m\u001b[0;34m,\u001b[0m\u001b[0mnum_threads\u001b[0m\u001b[0;34m)\u001b[0m\u001b[0;34m\u001b[0m\u001b[0;34m\u001b[0m\u001b[0m\n\u001b[1;32m    607\u001b[0m         \u001b[0;32melif\u001b[0m \u001b[0mlen\u001b[0m\u001b[0;34m(\u001b[0m\u001b[0mcat1\u001b[0m\u001b[0;34m)\u001b[0m \u001b[0;34m==\u001b[0m \u001b[0;36m1\u001b[0m \u001b[0;32mand\u001b[0m \u001b[0mlen\u001b[0m\u001b[0;34m(\u001b[0m\u001b[0mcat2\u001b[0m\u001b[0;34m)\u001b[0m \u001b[0;34m==\u001b[0m \u001b[0;36m1\u001b[0m\u001b[0;34m:\u001b[0m\u001b[0;34m\u001b[0m\u001b[0;34m\u001b[0m\u001b[0m\n\u001b[0;32m--> 608\u001b[0;31m             \u001b[0mself\u001b[0m\u001b[0;34m.\u001b[0m\u001b[0mprocess_cross\u001b[0m\u001b[0;34m(\u001b[0m\u001b[0mcat1\u001b[0m\u001b[0;34m[\u001b[0m\u001b[0;36m0\u001b[0m\u001b[0;34m]\u001b[0m\u001b[0;34m,\u001b[0m\u001b[0mcat2\u001b[0m\u001b[0;34m[\u001b[0m\u001b[0;36m0\u001b[0m\u001b[0;34m]\u001b[0m\u001b[0;34m,\u001b[0m\u001b[0mmetric\u001b[0m\u001b[0;34m,\u001b[0m\u001b[0mnum_threads\u001b[0m\u001b[0;34m)\u001b[0m\u001b[0;34m\u001b[0m\u001b[0;34m\u001b[0m\u001b[0m\n\u001b[0m\u001b[1;32m    609\u001b[0m         \u001b[0;32melse\u001b[0m\u001b[0;34m:\u001b[0m\u001b[0;34m\u001b[0m\u001b[0;34m\u001b[0m\u001b[0m\n\u001b[1;32m    610\u001b[0m             \u001b[0;31m# When patch processing, keep track of the pair-wise results.\u001b[0m\u001b[0;34m\u001b[0m\u001b[0;34m\u001b[0m\u001b[0;34m\u001b[0m\u001b[0m\n",
      "\u001b[0;32m/pbs/throng/lsst/software/desc/common/miniconda/py3.7-4.7.12.1-v2/envs/desc/lib/python3.7/site-packages/treecorr/nncorrelation.py\u001b[0m in \u001b[0;36mprocess_cross\u001b[0;34m(self, cat1, cat2, metric, num_threads)\u001b[0m\n\u001b[1;32m    245\u001b[0m         \u001b[0mself\u001b[0m\u001b[0;34m.\u001b[0m\u001b[0mlogger\u001b[0m\u001b[0;34m.\u001b[0m\u001b[0minfo\u001b[0m\u001b[0;34m(\u001b[0m\u001b[0;34m'Starting %d jobs.'\u001b[0m\u001b[0;34m,\u001b[0m\u001b[0mf1\u001b[0m\u001b[0;34m.\u001b[0m\u001b[0mnTopLevelNodes\u001b[0m\u001b[0;34m)\u001b[0m\u001b[0;34m\u001b[0m\u001b[0;34m\u001b[0m\u001b[0m\n\u001b[1;32m    246\u001b[0m         treecorr._lib.ProcessCross2(self.corr, f1.data, f2.data, self.output_dots,\n\u001b[0;32m--> 247\u001b[0;31m                                     f1._d, f2._d, self._coords, self._bintype, self._metric)\n\u001b[0m\u001b[1;32m    248\u001b[0m         \u001b[0mself\u001b[0m\u001b[0;34m.\u001b[0m\u001b[0mtot\u001b[0m \u001b[0;34m+=\u001b[0m \u001b[0mcat1\u001b[0m\u001b[0;34m.\u001b[0m\u001b[0msumw\u001b[0m\u001b[0;34m*\u001b[0m\u001b[0mcat2\u001b[0m\u001b[0;34m.\u001b[0m\u001b[0msumw\u001b[0m\u001b[0;34m\u001b[0m\u001b[0;34m\u001b[0m\u001b[0m\n\u001b[1;32m    249\u001b[0m \u001b[0;34m\u001b[0m\u001b[0m\n",
      "\u001b[0;31mKeyboardInterrupt\u001b[0m: "
     ]
    }
   ],
   "source": [
    "# correlation fct for individual clusters \n",
    "\n",
    "xi1 = 0\n",
    "sigxi1 = 0\n",
    "xi_rand1 = 0\n",
    "sigxi_rand1 = 0\n",
    "\n",
    "\n",
    "for k in range(halo_cat['ra'][selection_halo* wide_selection].size):\n",
    "    cat_lens = treecorr.Catalog(ra = np.reshape(halo_cat['ra'][selection_halo*wide_selection].iloc[k], -1), dec = np.reshape(halo_cat['dec'][selection_halo*wide_selection].iloc[k],-1), ra_units='deg', dec_units='deg')\n",
    "    r1, xi1, covxi1, ls1, lrs1, srl1, rlrs1, ll1 = corr_quantities_alt(cat_lens, cat, cat_rand_halo, rand, bin_dict=bin_dict);\n",
    "    xi1 = xi1 + xi01\n",
    "    varxi1 = sigxi1**2 + sigxi01**2\n",
    "    xi_rand1 = xi_rand1 + xi0_rand1\n",
    "    varxi_rand1 = sigxi_rand1**2 + sigxi0_rand1**2"
   ]
  },
  {
   "cell_type": "code",
   "execution_count": 54,
   "metadata": {},
   "outputs": [
    {
     "data": {
      "image/png": "[encoded data removed]",
      "text/plain": [
       "<Figure size 432x288 with 1 Axes>"
      ]
     },
     "metadata": {
      "needs_background": "light"
     },
     "output_type": "display_data"
    }
   ],
   "source": [
    "# correlation fct for individual clusters \n",
    "\n",
    "\n",
    "N = (halo_cat['ra'][selection_halo*wide_selection].size)\n",
    "\n",
    "#yerr=np.sqrt(np.diag(varxi1)/N)\n",
    "yerr=np.zeros(10)\n",
    "\n",
    "\n",
    "fig, ax =  corr_plot(r1, xi1/N, yerr, r_rand1, xi_rand1/N, np.sqrt(np.diag(varxi_rand1))/N)\n",
    "\n",
    "ax.errorbar(r, xi, yerr=sigxi, fmt='')\n",
    "\n",
    "ax.errorbar(r, xi+xi_ll, yerr=sigxi, fmt='')\n",
    "\n",
    "ax.axvline(1*healpy.nside2resol(4096, arcmin = True), linestyle=\"dashed\")\n",
    "\n",
    "secax = ax.secondary_xaxis('top', functions=( arcmin_to_Mpc, Mpc_to_arcmin))\n",
    "secax.set_xlabel('$\\\\theta$ [Mpc]')\n",
    "\n",
    "r200 = scaled_radius(200, halo_mass_mean, redshift_mean, cosmo)\n",
    "ax.axvline(Mpc_to_arcmin(r200))\n",
    "\n",
    "#ax.errorbar(r_null*1.05, xi_null, yerr= sigxi_null, color='green', fmt='.')\n",
    "\n",
    "ax.text(0.60, 0.80, \"<z>=\"+str(round(redshift_mean,2)), transform=ax.transAxes)\n",
    "ax.text(0.60, 0.90, \"<M/1e14>=\"+str(round(halo_mass_mean/1e14,2)), transform=ax.transAxes);\n"
   ]
  },
  {
   "cell_type": "code",
   "execution_count": 54,
   "metadata": {},
   "outputs": [
    {
     "data": {
      "image/png": "[encoded data removed]",
      "text/plain": [
       "<Figure size 432x288 with 1 Axes>"
      ]
     },
     "metadata": {
      "needs_background": "light"
     },
     "output_type": "display_data"
    }
   ],
   "source": [
    "# correlation fct for individual clusters \n",
    "\n",
    "\n",
    "N = (halo_cat['ra'][selection_halo*wide_selection].size)\n",
    "\n",
    "#yerr=np.sqrt(np.diag(varxi1)/N)\n",
    "yerr=np.zeros(10)\n",
    "\n",
    "\n",
    "fig, ax =  corr_plot(r1, xi1/N, yerr, r_rand1, xi_rand1/N, np.sqrt(np.diag(varxi_rand1))/N)\n",
    "\n",
    "ax.errorbar(r, xi, yerr=sigxi, fmt='')\n",
    "\n",
    "ax.errorbar(r, xi+xi_ll, yerr=sigxi, fmt='')\n",
    "\n",
    "ax.axvline(1*healpy.nside2resol(4096, arcmin = True), linestyle=\"dashed\")\n",
    "\n",
    "secax = ax.secondary_xaxis('top', functions=( arcmin_to_Mpc, Mpc_to_arcmin))\n",
    "secax.set_xlabel('$\\\\theta$ [Mpc]')\n",
    "\n",
    "r200 = scaled_radius(200, halo_mass_mean, redshift_mean, cosmo)\n",
    "ax.axvline(Mpc_to_arcmin(r200))\n",
    "\n",
    "#ax.errorbar(r_null*1.05, xi_null, yerr= sigxi_null, color='green', fmt='.')\n",
    "\n",
    "ax.text(0.60, 0.80, \"<z>=\"+str(round(redshift_mean,2)), transform=ax.transAxes)\n",
    "ax.text(0.60, 0.90, \"<M/1e14>=\"+str(round(halo_mass_mean/1e14,2)), transform=ax.transAxes);\n"
   ]
  },
  {
   "cell_type": "raw",
   "metadata": {},
   "source": [
    "def find_ampl(x, ampl):\n",
    "    y = ampl * fmodel(x)\n",
    "    return y "
   ]
  },
  {
   "cell_type": "code",
   "execution_count": null,
   "metadata": {},
   "outputs": [],
   "source": [
    "def sum_chi2(data, error, model):\n",
    "    y = (data - model)**2/error**2\n",
    "    return np.sum(y)"
   ]
  },
  {
   "cell_type": "raw",
   "metadata": {},
   "source": [
    "ampl, err_ampl, chi2 = np.zeros((3, 6, z_cl.shape[0], z_cl.shape[1]))\n",
    "\n",
    "for i in range(bin_sel.shape[0]):\n",
    "    for j in range(bin_sel.shape[1]):\n",
    "        x = Mpc_to_arcmin(r3d, z=z_cl[i,j], cosmo=cosmo)\n",
    "        model = mu_bias(magnification[:,j,i],alpha_cut)- 1\n",
    "        fmodel = itp.interp1d(x, model)\n",
    "\n",
    "        for (k,step) in enumerate([0,1,2,3,4,5]):\n",
    "            res = curve_fit(find_ampl, quant[i,j][0][step:], quant[i,j][1][step:], sigma=quant[i,j][2][step:], absolute_sigma=True)\n",
    "            ampl[k, i, j], err_ampl[k] = res[0][0], res[1][0][0]\n",
    "            chi2[k,i,j] = sum_chi2(quant[i,j][1][step:], quant[i,j][2][step:], fmodel(quant[i,j][0][step:]))\n",
    "            #print(\"step\", step, \"res\", round(ampl[k,i,j],2), \"\\pm\", round(err_ampl[k,i,j], 2))"
   ]
  },
  {
   "cell_type": "raw",
   "metadata": {},
   "source": [
    "i, j =4,0\n",
    "[plt.errorbar(np.array([0,1,2,3,4,5])+0.05*j, ampl[:,i,j], yerr=err_ampl[:,i, j], fmt='-o', label=str(round(mass[i,j]/1e14,2))) for j in range(5)]\n",
    "\n",
    "plt.axhline(1, color='black', linestyle='dotted')\n",
    "\n",
    "plt.legend()"
   ]
  },
  {
   "cell_type": "raw",
   "metadata": {},
   "source": [
    "i, j =0,0\n",
    "[plt.plot(np.array([0,1,2,3,4,5])+0.05*j, ampl[:,i,j]/err_ampl[:,i, j], '-o', label=str(round(mass[i,j]/1e14,2))) for j in range(5)]\n",
    "\n",
    "plt.axhline(1, color='black', linestyle='dotted')\n",
    "\n",
    "plt.legend()"
   ]
  },
  {
   "cell_type": "raw",
   "metadata": {},
   "source": [
    "i, j = 0,3\n",
    "[plt.plot(np.array([0,1,2,3,4,5])+0.05*i, chi2[:,i, j], '-o', label=str(round(z_cl[i,j],2))) for i in range(5)]\n",
    "\n",
    "plt.legend()\n",
    "plt.yscale('log')"
   ]
  },
  {
   "cell_type": "raw",
   "metadata": {},
   "source": [
    "step = 0\n",
    "\n",
    "for step in [0,1,2,3,4,5]:\n",
    "    res = curve_fit(find_ampl, quant[i,j][0][step:], quant[i,j][1][step:], sigma=quant[i,j][2][step:], absolute_sigma=True)\n",
    "    print(\"step\", step, \"res\", round(res[0][0],2), \"\\pm\", round(res[1][0][0], 2))"
   ]
  },
  {
   "cell_type": "raw",
   "metadata": {},
   "source": [
    "step = 0\n",
    "\n",
    "for step in [0,1,2,3,4,5]:\n",
    "    res = curve_fit(find_ampl, quant[i,j][0][step:], quant[i,j][1][step:], sigma=quant[i,j][2][step:], absolute_sigma=True)\n",
    "    print(\"step\", step, \"res\", round(res[0][0],2), \"\\pm\", round(res[1][0][0], 2))"
   ]
  },
  {
   "cell_type": "code",
   "execution_count": null,
   "metadata": {},
   "outputs": [],
   "source": [
    "def c_DuttonMaccio(z, m, h):\n",
    "    \"\"\"Concentration from c(M) relation in Dutton & Maccio (2014).\n",
    "    Parameters\n",
    "    ----------\n",
    "    z : float or array_like\n",
    "        Redshift(s) of halos.\n",
    "    m : float or array_like\n",
    "        Mass(es) of halos (m200 definition), in units of solar masses.\n",
    "    h : float, optional\n",
    "        Hubble parameter. Default is from Planck13.\n",
    "    Returns\n",
    "    ----------\n",
    "    ndarray\n",
    "        Concentration values (c200) for halos.\n",
    "    References\n",
    "    ----------\n",
    "    Calculation from Planck-based results of simulations presented in:\n",
    "    A.A. Dutton & A.V. Maccio, \"Cold dark matter haloes in the Planck era:\n",
    "    evolution of structural parameters for Einasto and NFW profiles,\"\n",
    "    Monthly Notices of the Royal Astronomical Society, Volume 441, Issue 4,\n",
    "    p.3359-3374, 2014.\n",
    "    \"\"\"\n",
    "\n",
    "    a = 0.52 + 0.385 * np.exp(-0.617 * (z**1.21))  # EQ 10\n",
    "    b = -0.101 + 0.026 * z                         # EQ 11\n",
    "\n",
    "    logc200 = a + b * np.log10(m * h / (10.**12))  # EQ 7\n",
    "\n",
    "    concentration = 10.**logc200\n",
    "\n",
    "    return concentration"
   ]
  },
  {
   "cell_type": "code",
   "execution_count": null,
   "metadata": {},
   "outputs": [],
   "source": [
    "def conc_child18(z, mass, A=57.6, d=-0.376, m=-0.078):\n",
    "    \"\"\"See Table 2 in https://iopscience.iop.org/article/10.3847/1538-4357/aabf95/pdf. Only valid for LCDM cosmology and 0<z<1\"\"\"\n",
    "    c200 = A*(1+z)**d * mass**m\n",
    "    return c200"
   ]
  },
  {
   "cell_type": "code",
   "execution_count": null,
   "metadata": {},
   "outputs": [],
   "source": [
    "i,j = 0,0\n",
    "step = 3\n",
    "\n",
    "chi2_val = np.zeros((z_cl.shape[0], z_cl.shape[1], len(mass_guess)))\n",
    "\n",
    "for i in range(len(z_cl)):\n",
    "    for j in range(len(mass)):\n",
    "        for l in range(len(mass_guess)):\n",
    "            chi2_val[i,j,l] = chi2(quant[i,j][1][step:], quant[i,j][2][step:], fmodel[i,l](quant[i,j][0][step:]))"
   ]
  },
  {
   "cell_type": "code",
   "execution_count": null,
   "metadata": {},
   "outputs": [],
   "source": [
    "i,j = 0,0\n",
    "mass_eval = np.zeros((z_cl.shape))\n",
    "mass_min = np.zeros((z_cl.shape))\n",
    "mass_max = np.zeros((z_cl.shape))\n",
    "\n",
    "for i in range(z_cl.shape[0]):\n",
    "    for j in range(z_cl.shape[1]):\n",
    "    #eval_mass, eval_mass_min, eval_mass_max \n",
    "        mass_eval[i,j], mass_min[i,j], mass_max[i,j] = mass_minimization(chi2_val[i,j,:], mass_guess, s = 1.)\n",
    "        #print(\"True mass\", mass[i,j]/1e13)\n",
    "        #print( \"evaluated mass =, %1.2e\" % results[i,j][0])\n",
    "        #[print (\"sigma =\", np.array([1.,2.,3.])[i], \", min mass =\", \"%1.2e\" % eval_mass_min[i], \", max mass =\", \"%1.2e\" % eval_mass_max[i]) for i in range(3)];"
   ]
  },
  {
   "cell_type": "code",
   "execution_count": null,
   "metadata": {},
   "outputs": [],
   "source": [
    "i,j=4,4\n",
    "\n",
    "plt.plot(mass_guess, chi2_val[i,j,:],'b.-')\n",
    "\n",
    "plt.xscale('log')\n",
    "plt.yscale('log')\n",
    "\n",
    "plt.axvline(mass[i,j], color='red')\n",
    "plt.axhline(np.min(chi2_val[i,j,:]),  color='black', alpha=1,linestyle=\"dotted\")\n",
    "plt.axvline(mass_eval[i,j],  color='black', alpha=1,linestyle=\"dotted\")\n",
    "\n",
    "[plt.axhline(np.min(chi2_val[i,j,:]) + u ) for u in stats.chi2.ppf(stats.chi2.cdf( np.array([1.,2.,3.])**2,1), 1)];\n",
    "\n",
    "#[plt.axvline(mass_min[i,j][i], alpha=0.5) for i in range(3)];\n",
    "#[plt.axvline(mass_max[i,j][i], alpha=0.5) for i in range(3)];\n",
    "\n",
    "\n",
    "plt.ylim(0,100)"
   ]
  },
  {
   "cell_type": "code",
   "execution_count": null,
   "metadata": {},
   "outputs": [],
   "source": [
    "#step = 0\n",
    "plt.loglog(mass[0,:]*0.90, mass_eval[0,:], \"-o\", label =\"z=\"+str(round(z_cl[0,0],2)))\n",
    "plt.loglog(mass[1,:]*0.95, mass_eval[1,:], \"-o\", label =\"z=\"+str(round(z_cl[1,0],2)))\n",
    "plt.loglog(mass[2,:]*1.00, mass_eval[2,:], \"-o\", label =\"z=\"+str(round(z_cl[2,0],2)))\n",
    "plt.loglog(mass[3,:]*1.05, mass_eval[3,:], \"-o\", label =\"z=\"+str(round(z_cl[3,0],2)))\n",
    "plt.loglog(mass[4,:]*1.10, mass_eval[4,:], \"-o\", label =\"z=\"+str(round(z_cl[4,0],2)))\n",
    "\n",
    "plt.plot(mass[0,:], mass[0,:], color='black')\n",
    "\n",
    "plt.legend()\n",
    "\n",
    "plt.xlabel(\"mass true\")\n",
    "plt.ylabel(\"mass eval\")"
   ]
  },
  {
   "cell_type": "code",
   "execution_count": null,
   "metadata": {},
   "outputs": [],
   "source": [
    "#step = 1\n",
    "plt.loglog(mass[0,:]*0.90, mass_eval[0,:], \"-o\", label =\"z=\"+str(round(z_cl[0,0],2)))\n",
    "plt.loglog(mass[1,:]*0.95, mass_eval[1,:], \"-o\", label =\"z=\"+str(round(z_cl[1,0],2)))\n",
    "plt.loglog(mass[2,:]*1.00, mass_eval[2,:], \"-o\", label =\"z=\"+str(round(z_cl[2,0],2)))\n",
    "plt.loglog(mass[3,:]*1.05, mass_eval[3,:], \"-o\", label =\"z=\"+str(round(z_cl[3,0],2)))\n",
    "plt.loglog(mass[4,:]*1.10, mass_eval[4,:], \"-o\", label =\"z=\"+str(round(z_cl[4,0],2)))\n",
    "\n",
    "plt.plot(mass[0,:], mass[0,:], color='black')\n",
    "\n",
    "plt.legend()\n",
    "\n",
    "plt.xlabel(\"mass true\")\n",
    "plt.ylabel(\"mass eval\")"
   ]
  },
  {
   "cell_type": "code",
   "execution_count": null,
   "metadata": {},
   "outputs": [],
   "source": [
    "#step = 2\n",
    "plt.loglog(mass[0,:]*0.90, mass_eval[0,:], \"-o\", label =\"z=\"+str(round(z_cl[0,0],2)))\n",
    "plt.loglog(mass[1,:]*0.95, mass_eval[1,:], \"-o\", label =\"z=\"+str(round(z_cl[1,0],2)))\n",
    "plt.loglog(mass[2,:]*1.00, mass_eval[2,:], \"-o\", label =\"z=\"+str(round(z_cl[2,0],2)))\n",
    "plt.loglog(mass[3,:]*1.05, mass_eval[3,:], \"-o\", label =\"z=\"+str(round(z_cl[3,0],2)))\n",
    "plt.loglog(mass[4,:]*1.10, mass_eval[4,:], \"-o\", label =\"z=\"+str(round(z_cl[4,0],2)))\n",
    "\n",
    "plt.plot(mass[0,:], mass[0,:], color='black', lw=2)\n",
    "\n",
    "plt.legend()\n",
    "\n",
    "plt.xlabel(\"mass true\")\n",
    "plt.ylabel(\"mass eval\")"
   ]
  },
  {
   "cell_type": "code",
   "execution_count": null,
   "metadata": {},
   "outputs": [],
   "source": [
    "#step = 3\n",
    "\n",
    "plt.errorbar(mass[0,:]*0.90, mass_eval[0,:],\\\n",
    "             yerr = (mass_eval[0,:] - mass_min[0,:], mass_max[0,:] - mass_eval[0,:]),fmt='-o', label =\"z=\"+str(round(z_cl[0,0],2)))\n",
    "\n",
    "plt.errorbar(mass[1,:]*0.95, mass_eval[1,:],\\\n",
    "             yerr = (mass_eval[1,:] - mass_min[1,:], mass_max[1,:] - mass_eval[1,:]),fmt='-o', label =\"z=\"+str(round(z_cl[1,0],2)))\n",
    "\n",
    "plt.errorbar(mass[2,:]*1.00, mass_eval[2,:],\\\n",
    "             yerr = (mass_eval[2,:] - mass_min[2,:], mass_max[2,:] - mass_eval[2,:]),fmt='-o', label =\"z=\"+str(round(z_cl[2,0],2)))\n",
    "\n",
    "plt.errorbar(mass[3,:]*1.05, mass_eval[3,:],\\\n",
    "             yerr = (mass_eval[3,:] - mass_min[3,:], mass_max[3,:] - mass_eval[3,:]),fmt='-o', label =\"z=\"+str(round(z_cl[3,0],2)))\n",
    "\n",
    "plt.errorbar(mass[4,:]*1.10, mass_eval[4,:],\\\n",
    "             yerr = (mass_eval[4,:] - mass_min[4,:], mass_max[4,:] - mass_eval[4,:]),fmt='-o', label =\"z=\"+str(round(z_cl[4,0],2)))\n",
    "\n",
    "plt.xscale('log')\n",
    "plt.yscale('log')\n",
    "\n",
    "plt.plot((4e13, 5e14),(4e13,5e14), color='black', lw=2)\n",
    "\n",
    "plt.legend()\n",
    "\n",
    "plt.xlabel(\"mass true\")\n",
    "plt.ylabel(\"mass eval\")\n",
    "\n",
    "plt.grid()"
   ]
  },
  {
   "cell_type": "code",
   "execution_count": null,
   "metadata": {},
   "outputs": [],
   "source": [
    "#step = 3\n",
    "\n",
    "plt.plot(mass[0,:]*0.90, mass_eval[0,:]/(0.5*(mass_max[0,:] - mass_min[0,:])),'-o', label =\"z=\"+str(round(z_cl[0,0],2)))\n",
    "plt.plot(mass[1,:]*0.95, mass_eval[1,:]/(0.5*(mass_max[1,:] - mass_min[1,:])),'-o', label =\"z=\"+str(round(z_cl[1,0],2)))\n",
    "plt.plot(mass[2,:]*1.00, mass_eval[2,:]/(0.5*(mass_max[2,:] - mass_min[2,:])),'-o', label =\"z=\"+str(round(z_cl[2,0],2)))\n",
    "plt.plot(mass[3,:]*1.05, mass_eval[3,:]/(0.5*(mass_max[3,:] - mass_min[3,:])),'-o', label =\"z=\"+str(round(z_cl[3,0],2)))\n",
    "plt.plot(mass[4,:]*1.10, mass_eval[4,:]/(0.5*(mass_max[4,:] - mass_min[4,:])),'-o', label =\"z=\"+str(round(z_cl[4,0],2)))\n",
    "\n",
    "plt.xscale('log')\n",
    "\n",
    "plt.legend()\n",
    "0.2 Mpc to 3.5 Mpc\n",
    "plt.xlabel(\"mass true\")\n",
    "plt.ylabel(\"mass eval\")\n",
    "\n",
    "plt.grid()"
   ]
  },
  {
   "cell_type": "code",
   "execution_count": null,
   "metadata": {},
   "outputs": [],
   "source": [
    "#step = 3\n",
    "\n",
    "plt.errorbar(mass[0,:]*0.90, mass_eval[0,:]/mass[0,:],\\\n",
    "             yerr = (mass_eval[0,:] - mass_min[0,:], mass_max[0,:] - mass_eval[0,:])/mass[0,:],fmt='-o', label =\"z=\"+str(round(z_cl[0,0],2)))\n",
    "\n",
    "plt.errorbar(mass[1,:]*0.95, mass_eval[1,:]/mass[1,:],\\\n",
    "             yerr = (mass_eval[1,:] - mass_min[1,:], mass_max[1,:] - mass_eval[1,:])/mass[1,:],fmt='-o', label =\"z=\"+str(round(z_cl[1,0],2)))\n",
    "\n",
    "plt.errorbar(mass[2,:]*1.00, mass_eval[2,:]/mass[2,:],\\\n",
    "             yerr = (mass_eval[2,:] - mass_min[2,:], mass_max[2,:] - mass_eval[2,:])/mass[2,:],fmt='-o', label =\"z=\"+str(round(z_cl[2,0],2)))\n",
    "\n",
    "plt.errorbar(mass[3,:]*1.05, mass_eval[3,:]/mass[3,:],\\\n",
    "             yerr = (mass_eval[3,:] - mass_min[3,:], mass_max[3,:] - mass_eval[3,:])/mass[3,:],fmt='-o', label =\"z=\"+str(round(z_cl[3,0],2)))\n",
    "\n",
    "plt.errorbar(mass[4,:]*1.10, mass_eval[4,:]/mass[4,:],\\\n",
    "             yerr = (mass_eval[4,:] - mass_min[4,:], mass_max[4,:] - mass_eval[4,:])/mass[4,:],fmt='-o', label =\"z=\"+str(round(z_cl[4,0],2)))\n",
    "\n",
    "plt.xscale('log')\n",
    "\n",
    "plt.axhline(1, color='black')\n",
    "\n",
    "plt.legend()\n",
    "\n",
    "plt.xlabel(\"mass true\")\n",
    "plt.ylabel(\"mass eval/mass true\")"
   ]
  },
  {
   "cell_type": "code",
   "execution_count": null,
   "metadata": {},
   "outputs": [],
   "source": [
    "j = 0\n",
    "for i in range(5):\n",
    "    print(mass[i,j]/1e14, mass_eval[i,j]/1e14, np.array((mass_eval[i,j] - mass_min[i,j], mass_max[i,j] - mass_eval[i,j]))/1e14)"
   ]
  },
  {
   "cell_type": "code",
   "execution_count": 7,
   "metadata": {},
   "outputs": [],
   "source": [
    "def ra_dec_z_to_Cartesian(ra, dec, redshift, cosmo, observer=np.array([0, 0, 0]), degrees=True):\n",
    "    #adapted from https:/nbodykit.readthedocs.io/en/latest/_modules/nbodykit/transform.html#SkyToUnitSphere\n",
    "    \"Return Cartesian coordinates in Mpc\"\n",
    "    x,y,z =  ra_dec_z_to_unitSphere(ra, dec, degrees=degrees, frame='icrs')\n",
    "    dist = cosmo.comoving_distance(redshift).value\n",
    "    return (x,y,z) *dist + observer[:,None]"
   ]
  },
  {
   "cell_type": "code",
   "execution_count": 8,
   "metadata": {},
   "outputs": [],
   "source": [
    "def ra_dec_z_to_unitSphere(ra, dec, degrees=True, frame='icrs'):\n",
    "    #adapted from https://nbodykit.readthedocs.io/en/latest/_modules/nbodykit/transform.html#SkyToUnitSphere\n",
    "    if frame == 'icrs':\n",
    "    # no frame transformation\n",
    "    # put into radians from degrees\n",
    "        if degrees:\n",
    "            ra  = ra*u.deg.to(u.rad)\n",
    "            dec = dec*u.deg.to(u.rad)\n",
    "\n",
    "    # cartesian coordinates\n",
    "    x = np.cos( dec ) * np.cos( ra )\n",
    "    y = np.cos( dec ) * np.sin( ra )\n",
    "    z = np.sin( dec )\n",
    "        \n",
    "    return x,y,z"
   ]
  },
  {
   "cell_type": "code",
   "execution_count": null,
   "metadata": {},
   "outputs": [],
   "source": []
  }
 ],
 "metadata": {
  "kernelspec": {
   "display_name": "desc",
   "language": "python",
   "name": "desc"
  },
  "language_info": {
   "codemirror_mode": {
    "name": "ipython",
    "version": 3
   },
   "file_extension": ".py",
   "mimetype": "text/x-python",
   "name": "python",
   "nbconvert_exporter": "python",
   "pygments_lexer": "ipython3",
   "version": "3.7.6"
  }
 },
 "nbformat": 4,
 "nbformat_minor": 4
}
