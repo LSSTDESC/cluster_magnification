{
 "cells": [
  {
   "cell_type": "markdown",
   "metadata": {},
   "source": [
    "## Goal : check shear SNR prediction vs CLMM mock data"
   ]
  },
  {
   "cell_type": "code",
   "execution_count": 1,
   "metadata": {},
   "outputs": [],
   "source": [
    "import os\n",
    "os.environ['CLMM_MODELING_BACKEND'] = 'ccl' # here you may choose ccl, nc (NumCosmo) or ct (cluster_toolkit)\n",
    "\n",
    "\n",
    "import numpy as np\n",
    "import matplotlib.pyplot as plt\n",
    "%matplotlib inline\n",
    "import matplotlib\n",
    "matplotlib.rcParams.update({'font.size': 16})\n",
    "from astropy.cosmology import FlatLambdaCDM\n",
    "from astropy import units as u\n",
    "from astropy.io import ascii\n",
    "from scipy.optimize import curve_fit\n",
    "from scipy.integrate import quad\n",
    "from scipy import stats, interpolate\n",
    "\n",
    "import sys\n",
    "sys.path.append('../')\n",
    "import magnification_library as magnification_library\n",
    "from magnification_library import *\n",
    "\n",
    "import clmm\n",
    "import clmm.support.mock_data as mock\n",
    "import pyccl\n",
    "\n",
    "from importlib import reload  "
   ]
  },
  {
   "cell_type": "code",
   "execution_count": 2,
   "metadata": {},
   "outputs": [
    {
     "data": {
      "text/plain": [
       "'1.0.0'"
      ]
     },
     "execution_count": 2,
     "metadata": {},
     "output_type": "execute_result"
    }
   ],
   "source": [
    "clmm.__version__"
   ]
  },
  {
   "cell_type": "code",
   "execution_count": 3,
   "metadata": {},
   "outputs": [
    {
     "data": {
      "text/plain": [
       "<module 'magnification_library' from '../magnification_library.py'>"
      ]
     },
     "execution_count": 3,
     "metadata": {},
     "output_type": "execute_result"
    }
   ],
   "source": [
    "reload(magnification_library)"
   ]
  },
  {
   "cell_type": "code",
   "execution_count": 4,
   "metadata": {},
   "outputs": [],
   "source": [
    "#define cosmology\n",
    "\n",
    "#astropy object\n",
    "cosmo = FlatLambdaCDM(H0=71, Om0=0.265, Tcmb0=0 , Neff=3.04, m_nu=None, Ob0=0.0448)\n",
    "\n",
    "#ccl object\n",
    "cosmo_ccl = pyccl.Cosmology(Omega_c=cosmo.Om0-cosmo.Ob0, Omega_b=cosmo.Ob0,\n",
    "                      h=cosmo.h, sigma8= 0.80, n_s=0.963)\n",
    "#clmm object\n",
    "cosmo_clmm = clmm.Cosmology(be_cosmo=cosmo_ccl)"
   ]
  },
  {
   "cell_type": "code",
   "execution_count": 7,
   "metadata": {},
   "outputs": [],
   "source": [
    "#computation utils properties\n",
    "z_s = np.linspace(0.001, 4, 1000)\n",
    "zinf = 1000 \n"
   ]
  },
  {
   "cell_type": "markdown",
   "metadata": {},
   "source": [
    "### Source / lens properties"
   ]
  },
  {
   "cell_type": "code",
   "execution_count": 55,
   "metadata": {},
   "outputs": [],
   "source": [
    "#Source galaxies properties \n",
    "#(source shear shot noise or LF slope, source density, redshift distribution parametrization)\n",
    "\n",
    "\n",
    "#MAGNIFICATION LSST u-dropout_________________________________________________________\n",
    "#see Fig 6 in https://arxiv.org/pdf/1904.13378.pdf for u-dropout\n",
    "\n",
    "#At z~3 the LSST band corresponding to UV ~ 1500 Angstrom is the r band.\n",
    "#limiting mag from C1 in https://arxiv.org/pdf/1809.01669.pdf\n",
    "mlim = 25.495 #i band\n",
    "\n",
    "alpha_lbg = 3.321\n",
    "\n",
    "n_eff_lbg = 0.54/(u.arcmin*u.arcmin)\n",
    "\n",
    "def mu_lbg_pdz(z):\n",
    "    func = gaussian(z, 1, 2.6, 1/(2*np.sqrt(2*np.log(2))))\n",
    "    return func/quad(lambda z: gaussian(z, 1, 2.6,0.61/(2*np.sqrt(2*np.log(2)))), 0, np.inf)[0]"
   ]
  },
  {
   "cell_type": "code",
   "execution_count": 56,
   "metadata": {},
   "outputs": [
    {
     "data": {
      "image/png": "[encoded data removed]",
      "text/plain": [
       "<Figure size 432x288 with 1 Axes>"
      ]
     },
     "metadata": {
      "needs_background": "light"
     },
     "output_type": "display_data"
    }
   ],
   "source": [
    "plt.plot(z_s, mu_lbg_pdz(z_s), 'C1',  label = '$\\mu$ cosmoDC2 LBG')\n",
    "\n",
    "plt.xlabel('z')\n",
    "plt.ylabel(\"p(z)\")\n",
    "plt.legend();"
   ]
  },
  {
   "cell_type": "code",
   "execution_count": 113,
   "metadata": {},
   "outputs": [],
   "source": [
    "def get_halo_concentration(mass_lens, z_lens, cosmo_ccl, relation=\"Diemer15\", mdef=\"matter\", delta_so=200):\n",
    "    mdef = pyccl.halos.massdef.MassDef(delta_so, mdef, c_m_relation=relation)\n",
    "    concdef = pyccl.halos.concentration.concentration_from_name(relation)()\n",
    "    conc = concdef.get_concentration(cosmo=cosmo_clmm.be_cosmo, M=mass_lens, a=cosmo_clmm.get_a_from_z(z=z_lens), mdef_other=mdef)\n",
    "    return conc "
   ]
  },
  {
   "cell_type": "code",
   "execution_count": 122,
   "metadata": {},
   "outputs": [
    {
     "name": "stdout",
     "output_type": "stream",
     "text": [
      "concentration = 4.079282119886581\n"
     ]
    }
   ],
   "source": [
    "#Lens properties\n",
    "\n",
    "cluster_m = 0.5e14\n",
    "cluster_z = 0.5\n",
    "N_cl = 2158\n",
    "Delta = 200 # mass definition with respect to critical overdensity\n",
    "concentration = get_halo_concentration(cluster_m, cluster_z, cosmo_clmm.be_cosmo, \"Diemer15\", \"matter\", Delta )\n",
    "print(\"concentration =\", concentration)"
   ]
  },
  {
   "cell_type": "markdown",
   "metadata": {},
   "source": [
    "## - Model construction"
   ]
  },
  {
   "cell_type": "code",
   "execution_count": 130,
   "metadata": {},
   "outputs": [],
   "source": [
    "radial_unit, rmin, rmax, nbins, method = 'Mpc', 0.1, 7, 100, 'evenlog10width'\n",
    "binedges = clmm.utils.make_bins(rmin, rmax, nbins=nbins, method=method)"
   ]
  },
  {
   "cell_type": "code",
   "execution_count": 131,
   "metadata": {},
   "outputs": [],
   "source": [
    "dict_profile = {'density contrast': \\\n",
    "                {'model_func':  clmm.theory.compute_convergence, \\\n",
    "                'noise_func': noise_mag,\\\n",
    "                'model_arg': 2 * abs(alpha_lbg-1), \\\n",
    "                'source_pdz': mu_lbg_pdz,\\\n",
    "                'source_density': n_eff_lbg,\\\n",
    "                'delta_z_cut' : 0.1},\n",
    "                'density contrast 2': \\\n",
    "                {'model_func':  clmm.theory.compute_magnification, \\\n",
    "                'noise_func': noise_mag,\\\n",
    "                'model_arg': 1, \\\n",
    "                'source_pdz': mu_lbg_pdz,\\\n",
    "                'source_density': n_eff_lbg,\\\n",
    "                'delta_z_cut' : 0.1}}\n"
   ]
  },
  {
   "cell_type": "code",
   "execution_count": 132,
   "metadata": {},
   "outputs": [],
   "source": [
    "lens_redshift = cluster_z\n",
    "profile_type = \"density contrast\""
   ]
  },
  {
   "cell_type": "code",
   "execution_count": 133,
   "metadata": {},
   "outputs": [],
   "source": [
    "bin_center, bin_edges, noise, model = profile_determination(rmin, rmax, radial_unit , lens_redshift, cluster_m , profile_type , dict_profile, cosmo_clmm, nbins, method=method, conc=concentration, delta_mdef=200, zinf=zinf)\n",
    "bin_center, binedges, Ngal = compute_source_number_per_bin(rmin, rmax, radial_unit, lens_redshift, dict_profile[profile_type]['source_pdz'], dict_profile[profile_type]['source_density'], nbins, method, cosmo_clmm)"
   ]
  },
  {
   "cell_type": "code",
   "execution_count": 140,
   "metadata": {},
   "outputs": [],
   "source": [
    "rad_Mpc = utils.convert_units(bin_center, radial_unit, 'Mpc', lens_redshift, cosmo_clmm)\n",
    "zmin, zmax, nz = 0.001, 5, 10000\n",
    "\n",
    "zint = np.linspace(zmin, zmax, nz)\n",
    "zrand = np.random.choice(zint, 1000, p=mu_lbg_pdz(zint)/np.sum(mu_lbg_pdz(zint)))\n",
    "\n",
    "model_z = np.zeros((rad_Mpc.size))  \n",
    "                \n",
    "for i in range(rad_Mpc.size):\n",
    "    model_z[i] = np.mean(dict_profile[\"density contrast 2\"]['model_func'](rad_Mpc[i], mdelta=cluster_m, \n",
    "                                                    cdelta=concentration, z_cluster=lens_redshift, z_source=2.6, \n",
    "                                                    cosmo= cosmo_clmm, \n",
    "                                                    delta_mdef=200, \n",
    "                                                    halo_profile_model='nfw', \n",
    "                                                    z_src_model='single_plane')**(dict_profile[profile_type]['model_arg']-1)) - 1"
   ]
  },
  {
   "cell_type": "markdown",
   "metadata": {},
   "source": [
    "## - Noise contribution from the profile construction"
   ]
  },
  {
   "cell_type": "code",
   "execution_count": 141,
   "metadata": {},
   "outputs": [
    {
     "data": {
      "image/png": "[encoded data removed]",
      "text/plain": [
       "<Figure size 432x288 with 1 Axes>"
      ]
     },
     "metadata": {
      "needs_background": "light"
     },
     "output_type": "display_data"
    }
   ],
   "source": [
    "plt.errorbar(bin_center, model, xerr = [bin_center - bin_edges[0:-1], bin_edges[1:] - bin_center],fmt='.-', lw=3,\\\n",
    "             label='profile noise model', yerr = noise/np.sqrt(N_cl))\n",
    "\n",
    "plt.errorbar(bin_center, model_z, xerr = [bin_center - bin_edges[0:-1], bin_edges[1:] - bin_center],fmt='.-', lw=3,\\\n",
    "             label='profile noise model', yerr = noise/np.sqrt(N_cl))\n",
    "\n",
    "\n",
    "#plt.ylim(0)\n",
    "plt.grid()\n",
    "plt.xscale('log')\n",
    "\n",
    "plt.legend(fontsize='x-small')\n",
    "\n",
    "plt.ylabel(profile_type)\n",
    "plt.xlabel('r [' + radial_unit + ']');"
   ]
  },
  {
   "cell_type": "code",
   "execution_count": null,
   "metadata": {},
   "outputs": [],
   "source": []
  }
 ],
 "metadata": {
  "kernelspec": {
   "display_name": "desc",
   "language": "python",
   "name": "desc"
  },
  "language_info": {
   "codemirror_mode": {
    "name": "ipython",
    "version": 3
   },
   "file_extension": ".py",
   "mimetype": "text/x-python",
   "name": "python",
   "nbconvert_exporter": "python",
   "pygments_lexer": "ipython3",
   "version": "3.8.8"
  }
 },
 "nbformat": 4,
 "nbformat_minor": 4
}
