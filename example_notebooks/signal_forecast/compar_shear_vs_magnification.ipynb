{
 "cells": [
  {
   "cell_type": "code",
   "execution_count": null,
   "id": "9783f8e1-a193-430e-ba2b-d7cd3aa90c40",
   "metadata": {},
   "outputs": [],
   "source": []
  },
  {
   "cell_type": "code",
   "execution_count": 3,
   "id": "cb124e06-06d1-46fb-9291-f54e67a78730",
   "metadata": {},
   "outputs": [],
   "source": [
    "import numpy as np\n",
    "\n",
    "import matplotlib.pyplot as plt\n",
    "%matplotlib inline\n",
    "import matplotlib\n",
    "matplotlib.rcParams.update({'font.size': 16})\n",
    "\n",
    "from astropy.cosmology import FlatLambdaCDM\n",
    "from astropy import units as u\n",
    "from astropy.io import ascii\n",
    "\n",
    "from scipy import stats, interpolate\n",
    "from scipy.integrate import quad, cumtrapz\n",
    "from scipy.optimize import curve_fit\n",
    "\n",
    "import sys\n",
    "sys.path.append('../../')\n",
    "import magnification_library as magnification_library\n",
    "from magnification_library import *\n",
    "\n",
    "import clmm\n",
    "from clmm import utils \n",
    "import pyccl\n",
    "\n",
    "from importlib import reload  "
   ]
  },
  {
   "cell_type": "code",
   "execution_count": 4,
   "id": "07549844-ab40-4f6c-9d1b-afe3222ca178",
   "metadata": {},
   "outputs": [],
   "source": [
    "#define cosmology\n",
    "\n",
    "#astropy object\n",
    "cosmo = FlatLambdaCDM(H0=71, Om0=0.265, Tcmb0=0 , Neff=3.04, m_nu=None, Ob0=0.0448)\n",
    "\n",
    "#ccl object\n",
    "cosmo_ccl = pyccl.Cosmology(Omega_c=cosmo.Om0-cosmo.Ob0, Omega_b=cosmo.Ob0,\n",
    "                      h=cosmo.h, sigma8= 0.80, n_s=0.963)\n",
    "#clmm object\n",
    "cosmo_clmm = clmm.Cosmology(be_cosmo=cosmo_ccl)"
   ]
  },
  {
   "cell_type": "code",
   "execution_count": null,
   "id": "f5629442-3e50-404a-9b2b-0848e9970cc2",
   "metadata": {},
   "outputs": [],
   "source": []
  },
  {
   "cell_type": "code",
   "execution_count": 59,
   "id": "b05b5be4-cee0-4ad4-b8ab-321516f1b3f1",
   "metadata": {},
   "outputs": [],
   "source": [
    "def shear_pdz(z):\n",
    "    norm =quad(lambda z: trunc_pdf(z, 1.24, 1.01, 0.51, 0, 3), 0, np.inf)[0]\n",
    "    return pdf_z(z, 1.24, 1.01, 0.51)/norm\n",
    "\n",
    "#SHEAR LSST\n",
    "s_e = 0.26\n",
    "n_e = 26 / u.arcmin**2 # fiducial number after blending + masking https://arxiv.org/pdf/1305.0793.pdf\n",
    "\n",
    "alpha = 1.5\n",
    "pdf_zsource = shear_pdz"
   ]
  },
  {
   "cell_type": "code",
   "execution_count": 60,
   "id": "0118c0ff-4e02-45b2-b2eb-bbd13d8b2207",
   "metadata": {},
   "outputs": [],
   "source": [
    "z_cl = 0.3\n",
    "mass_cl = 5*1e14\n",
    "Delta_SO = 200\n",
    "zinf = 1e3"
   ]
  },
  {
   "cell_type": "code",
   "execution_count": 61,
   "id": "15549ce3-b56d-4847-9009-e71c07bfbfe5",
   "metadata": {},
   "outputs": [],
   "source": [
    "radial_unit, rmin, rmax, nbins, method = 'Mpc', 0.1, 7, 10, 'evenlog10width'\n",
    "binedges = clmm.utils.make_bins(rmin, rmax, nbins=nbins, method=method)"
   ]
  },
  {
   "cell_type": "code",
   "execution_count": 62,
   "id": "3a19d87b-d417-48f4-b816-a6e6c11b4ba2",
   "metadata": {},
   "outputs": [],
   "source": [
    "dict_profile =  {'shear': \\\n",
    "                {'model_func': clmm.theory.compute_tangential_shear, \\\n",
    "                'noise_func': lambda Ngal: noise_shear(Ngal , s_e),\\\n",
    "                'model_arg': 1., \\\n",
    "                'source_pdz': pdf_zsource,\\\n",
    "                'source_density': n_e},\n",
    "                'density contrast': \\\n",
    "                {'model_func':  clmm.theory.compute_magnification, \\\n",
    "                'noise_func': noise_mag,\\\n",
    "                'model_arg': alpha, \\\n",
    "                'source_pdz': pdf_zsource ,\\\n",
    "                'source_density': n_e,\\\n",
    "                'delta_z_cut' : 0.1}}\n"
   ]
  },
  {
   "cell_type": "code",
   "execution_count": 63,
   "id": "119db9b0-82f8-42c3-b955-dec1be671f1c",
   "metadata": {},
   "outputs": [
    {
     "name": "stderr",
     "output_type": "stream",
     "text": [
      "/pbs/throng/lsst/users/mricci/desc/CLMM/clmm/theory/func_layer.py:532: UserWarning: Some source redshifts are lower than the cluster redshift. magnification = 1 for those galaxies.\n",
      "  warnings.warn(\n"
     ]
    }
   ],
   "source": [
    "profile_type = \"density contrast\"\n",
    "\n",
    "#concentration = get_halo_concentration(mass_cl, z_cl, cosmo_clmm.be_cosmo, \"Diemer15\", \"matter\", Delta_SO )\n",
    "concentration = 4.\n",
    "bin_center, bin_edges, N_gal = compute_source_number_per_bin(rmin, rmax, radial_unit, z_cl, dict_profile[profile_type]['source_pdz'],\\\n",
    "                                                            dict_profile[profile_type]['source_density'], nbins, method, cosmo_clmm)\n",
    "\n",
    "profile_type = \"density contrast\"\n",
    "bin_center, bin_edges, noise_m, model_m1 = profile_determination(rmin, rmax, radial_unit , z_cl, mass_cl , profile_type , dict_profile, cosmo_clmm, nbins, method=method, conc=concentration, delta_mdef=200, zinf=zinf)\n",
    "bin_center, bin_edges, noise_m, model_m2 = profile_determination(rmin, rmax, radial_unit , z_cl, mass_cl , profile_type , dict_profile, cosmo_clmm, nbins, method=method, conc=concentration, delta_mdef=200, zinf=zinf)\n",
    "bin_center, bin_edges, noise_m, model_m3 = profile_determination(rmin, rmax, radial_unit , z_cl, mass_cl , profile_type , dict_profile, cosmo_clmm, nbins, method=method, conc=concentration, delta_mdef=200, zinf=zinf)\n",
    "\n",
    "profile_type = \"shear\"\n",
    "\n",
    "bin_center, bin_edges, noise_s, model_s = profile_determination(rmin, rmax, radial_unit , z_cl, mass_cl , profile_type , dict_profile, cosmo_clmm, nbins, method=method, conc=concentration, delta_mdef=200, zinf=zinf)\n"
   ]
  },
  {
   "cell_type": "code",
   "execution_count": 64,
   "id": "f77c2b89-8cf9-43cc-9b6b-65f06723fbed",
   "metadata": {},
   "outputs": [
    {
     "data": {
      "text/plain": [
       "'26.0 1 / arcmin2'"
      ]
     },
     "execution_count": 64,
     "metadata": {},
     "output_type": "execute_result"
    }
   ],
   "source": [
    "n_e.to_string()"
   ]
  },
  {
   "cell_type": "code",
   "execution_count": 65,
   "id": "a99a11da-38c7-45b4-bbe5-6b55409682db",
   "metadata": {},
   "outputs": [
    {
     "data": {
      "text/plain": [
       "Text(0.5, 1.0, '$M_{200,m}=5.0x10^{14}M_{\\\\odot}, z_{cl} = 0.3 $\\n$ n_e=26.0 1 / arcmin2,  \\\\sigma_e=0.26,  \\\\alpha = 1.5$')"
      ]
     },
     "execution_count": 65,
     "metadata": {},
     "output_type": "execute_result"
    },
    {
     "data": {
      "image/png": "[encoded data removed]",
      "text/plain": [
       "<Figure size 600x400 with 1 Axes>"
      ]
     },
     "metadata": {
      "needs_background": "light"
     },
     "output_type": "display_data"
    }
   ],
   "source": [
    "plt.figure(dpi=100)\n",
    "\n",
    "plt.plot(bin_center, model_s, 'b', label='shear $\\gamma_t$')\n",
    "plt.plot(bin_center, noise_s, 'b',label='$\\sigma_{\\gamma_t}$', ls='--')\n",
    "\n",
    "plt.plot(bin_center, abs(model_m1),'r', label='magnification bias $\\delta_{\\mu}$')\n",
    "plt.plot(bin_center, noise_m, 'r',label='$\\sigma_{\\delta_{\\mu}}$', ls='--')\n",
    "\n",
    "plt.xscale('log')\n",
    "plt.yscale('log')\n",
    "\n",
    "plt.xlabel('r [Mpc]')\n",
    "plt.ylabel('profiles')\n",
    "\n",
    "plt.legend(fontsize='x-small',loc='lower left', ncol=2)\n",
    "plt.xlim(0.1,10)\n",
    "\n",
    "plt.title(\"$M_{200,m}=\"+str(mass_cl/1e14)+\"x10^{14}M_{\\odot}, z_{cl} = \"+str(z_cl)+\" $\\n$ n_e=\"+n_e.to_string()+\",  \\sigma_e=\"+str(s_e)+\",  \\\\alpha = \"+str(alpha)+\"$\", fontsize='small')"
   ]
  },
  {
   "cell_type": "code",
   "execution_count": null,
   "id": "65faa1b5-3c1f-4845-914d-00938fe6d631",
   "metadata": {},
   "outputs": [],
   "source": [
    "plt.plot(bin_center, model_s, 'b', label='shear $\\gamma_t$')\n",
    "plt.plot(bin_center, noise_s, 'b',label='$\\sigma_{\\gamma_t}$', ls='--')\n",
    "\n",
    "plt.plot(bin_center, abs(model_m),'r', label='magnification bias $\\delta_{\\mu}$')\n",
    "plt.plot(bin_center, noise_m, 'r',label='$\\sigma_{\\delta_{\\mu}}$', ls='--')\n",
    "\n",
    "plt.xscale('log')\n",
    "plt.yscale('log')\n",
    "\n",
    "plt.xlabel('r [Mpc]')\n",
    "\n",
    "plt.legend(fontsize='x-small',loc='lower left', ncol=2)"
   ]
  },
  {
   "cell_type": "code",
   "execution_count": null,
   "id": "d23a3d68-8913-4e77-8d7f-e84b0b28e429",
   "metadata": {},
   "outputs": [],
   "source": [
    "\n",
    "plt.plot(bin_center, model_s/noise_s, 'bx-', label='shear $\\gamma_t$')\n",
    "plt.plot(bin_center, abs(model_m)/noise_m,'rx-', label='magnification bias $\\delta_{\\mu}$')\n",
    "\n",
    "plt.xscale('log')\n",
    "plt.yscale('log')\n",
    "\n",
    "plt.xlabel('r [Mpc]')\n",
    "\n",
    "plt.legend()"
   ]
  },
  {
   "cell_type": "code",
   "execution_count": null,
   "id": "d7c8179a-a462-45f2-baf4-b94caf76132c",
   "metadata": {},
   "outputs": [],
   "source": []
  }
 ],
 "metadata": {
  "kernelspec": {
   "display_name": "desc",
   "language": "python",
   "name": "desc"
  },
  "language_info": {
   "codemirror_mode": {
    "name": "ipython",
    "version": 3
   },
   "file_extension": ".py",
   "mimetype": "text/x-python",
   "name": "python",
   "nbconvert_exporter": "python",
   "pygments_lexer": "ipython3",
   "version": "3.8.8"
  }
 },
 "nbformat": 4,
 "nbformat_minor": 5
}
